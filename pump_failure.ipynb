{
 "cells": [
  {
   "attachments": {},
   "cell_type": "markdown",
   "metadata": {
    "id": "NPRlPhSFi0dk"
   },
   "source": [
    "## Data Overview:"
   ]
  },
  {
   "cell_type": "code",
   "execution_count": 1,
   "metadata": {
    "id": "i_zC76VLfbIl"
   },
   "outputs": [],
   "source": [
    "# importing libraries\n",
    "\n",
    "import pandas as pd\n",
    "import numpy as np\n",
    "import matplotlib.pyplot as plt                                                 \n",
    "import seaborn as sns \n",
    "from sklearn import preprocessing\n",
    "\n",
    "import warnings\n",
    "warnings.filterwarnings(\"ignore\")"
   ]
  },
  {
   "cell_type": "code",
   "execution_count": 2,
   "metadata": {
    "colab": {
     "base_uri": "https://localhost:8080/",
     "height": 330
    },
    "id": "XhS1sR3_fbIt",
    "outputId": "790aface-bad0-4431-ba80-c06d7438fbb1"
   },
   "outputs": [
    {
     "data": {
      "text/html": [
       "<div>\n",
       "<style scoped>\n",
       "    .dataframe tbody tr th:only-of-type {\n",
       "        vertical-align: middle;\n",
       "    }\n",
       "\n",
       "    .dataframe tbody tr th {\n",
       "        vertical-align: top;\n",
       "    }\n",
       "\n",
       "    .dataframe thead th {\n",
       "        text-align: right;\n",
       "    }\n",
       "</style>\n",
       "<table border=\"1\" class=\"dataframe\">\n",
       "  <thead>\n",
       "    <tr style=\"text-align: right;\">\n",
       "      <th></th>\n",
       "      <th>Unnamed: 0</th>\n",
       "      <th>timestamp</th>\n",
       "      <th>sensor_00</th>\n",
       "      <th>sensor_01</th>\n",
       "      <th>sensor_02</th>\n",
       "      <th>sensor_03</th>\n",
       "      <th>sensor_04</th>\n",
       "      <th>sensor_05</th>\n",
       "      <th>sensor_06</th>\n",
       "      <th>sensor_07</th>\n",
       "      <th>...</th>\n",
       "      <th>sensor_43</th>\n",
       "      <th>sensor_44</th>\n",
       "      <th>sensor_45</th>\n",
       "      <th>sensor_46</th>\n",
       "      <th>sensor_47</th>\n",
       "      <th>sensor_48</th>\n",
       "      <th>sensor_49</th>\n",
       "      <th>sensor_50</th>\n",
       "      <th>sensor_51</th>\n",
       "      <th>machine_status</th>\n",
       "    </tr>\n",
       "  </thead>\n",
       "  <tbody>\n",
       "    <tr>\n",
       "      <th>0</th>\n",
       "      <td>0</td>\n",
       "      <td>2018-04-01 00:00:00</td>\n",
       "      <td>2.465394</td>\n",
       "      <td>47.09201</td>\n",
       "      <td>53.2118</td>\n",
       "      <td>46.310760</td>\n",
       "      <td>634.3750</td>\n",
       "      <td>76.45975</td>\n",
       "      <td>13.41146</td>\n",
       "      <td>16.13136</td>\n",
       "      <td>...</td>\n",
       "      <td>41.92708</td>\n",
       "      <td>39.641200</td>\n",
       "      <td>65.68287</td>\n",
       "      <td>50.92593</td>\n",
       "      <td>38.194440</td>\n",
       "      <td>157.9861</td>\n",
       "      <td>67.70834</td>\n",
       "      <td>243.0556</td>\n",
       "      <td>201.3889</td>\n",
       "      <td>NORMAL</td>\n",
       "    </tr>\n",
       "    <tr>\n",
       "      <th>1</th>\n",
       "      <td>1</td>\n",
       "      <td>2018-04-01 00:01:00</td>\n",
       "      <td>2.465394</td>\n",
       "      <td>47.09201</td>\n",
       "      <td>53.2118</td>\n",
       "      <td>46.310760</td>\n",
       "      <td>634.3750</td>\n",
       "      <td>76.45975</td>\n",
       "      <td>13.41146</td>\n",
       "      <td>16.13136</td>\n",
       "      <td>...</td>\n",
       "      <td>41.92708</td>\n",
       "      <td>39.641200</td>\n",
       "      <td>65.68287</td>\n",
       "      <td>50.92593</td>\n",
       "      <td>38.194440</td>\n",
       "      <td>157.9861</td>\n",
       "      <td>67.70834</td>\n",
       "      <td>243.0556</td>\n",
       "      <td>201.3889</td>\n",
       "      <td>NORMAL</td>\n",
       "    </tr>\n",
       "    <tr>\n",
       "      <th>2</th>\n",
       "      <td>2</td>\n",
       "      <td>2018-04-01 00:02:00</td>\n",
       "      <td>2.444734</td>\n",
       "      <td>47.35243</td>\n",
       "      <td>53.2118</td>\n",
       "      <td>46.397570</td>\n",
       "      <td>638.8889</td>\n",
       "      <td>73.54598</td>\n",
       "      <td>13.32465</td>\n",
       "      <td>16.03733</td>\n",
       "      <td>...</td>\n",
       "      <td>41.66666</td>\n",
       "      <td>39.351852</td>\n",
       "      <td>65.39352</td>\n",
       "      <td>51.21528</td>\n",
       "      <td>38.194443</td>\n",
       "      <td>155.9606</td>\n",
       "      <td>67.12963</td>\n",
       "      <td>241.3194</td>\n",
       "      <td>203.7037</td>\n",
       "      <td>NORMAL</td>\n",
       "    </tr>\n",
       "    <tr>\n",
       "      <th>3</th>\n",
       "      <td>3</td>\n",
       "      <td>2018-04-01 00:03:00</td>\n",
       "      <td>2.460474</td>\n",
       "      <td>47.09201</td>\n",
       "      <td>53.1684</td>\n",
       "      <td>46.397568</td>\n",
       "      <td>628.1250</td>\n",
       "      <td>76.98898</td>\n",
       "      <td>13.31742</td>\n",
       "      <td>16.24711</td>\n",
       "      <td>...</td>\n",
       "      <td>40.88541</td>\n",
       "      <td>39.062500</td>\n",
       "      <td>64.81481</td>\n",
       "      <td>51.21528</td>\n",
       "      <td>38.194440</td>\n",
       "      <td>155.9606</td>\n",
       "      <td>66.84028</td>\n",
       "      <td>240.4514</td>\n",
       "      <td>203.1250</td>\n",
       "      <td>NORMAL</td>\n",
       "    </tr>\n",
       "    <tr>\n",
       "      <th>4</th>\n",
       "      <td>4</td>\n",
       "      <td>2018-04-01 00:04:00</td>\n",
       "      <td>2.445718</td>\n",
       "      <td>47.13541</td>\n",
       "      <td>53.2118</td>\n",
       "      <td>46.397568</td>\n",
       "      <td>636.4583</td>\n",
       "      <td>76.58897</td>\n",
       "      <td>13.35359</td>\n",
       "      <td>16.21094</td>\n",
       "      <td>...</td>\n",
       "      <td>41.40625</td>\n",
       "      <td>38.773150</td>\n",
       "      <td>65.10416</td>\n",
       "      <td>51.79398</td>\n",
       "      <td>38.773150</td>\n",
       "      <td>158.2755</td>\n",
       "      <td>66.55093</td>\n",
       "      <td>242.1875</td>\n",
       "      <td>201.3889</td>\n",
       "      <td>NORMAL</td>\n",
       "    </tr>\n",
       "  </tbody>\n",
       "</table>\n",
       "<p>5 rows × 55 columns</p>\n",
       "</div>"
      ],
      "text/plain": [
       "   Unnamed: 0            timestamp  sensor_00  sensor_01  sensor_02  \\\n",
       "0           0  2018-04-01 00:00:00   2.465394   47.09201    53.2118   \n",
       "1           1  2018-04-01 00:01:00   2.465394   47.09201    53.2118   \n",
       "2           2  2018-04-01 00:02:00   2.444734   47.35243    53.2118   \n",
       "3           3  2018-04-01 00:03:00   2.460474   47.09201    53.1684   \n",
       "4           4  2018-04-01 00:04:00   2.445718   47.13541    53.2118   \n",
       "\n",
       "   sensor_03  sensor_04  sensor_05  sensor_06  sensor_07  ...  sensor_43  \\\n",
       "0  46.310760   634.3750   76.45975   13.41146   16.13136  ...   41.92708   \n",
       "1  46.310760   634.3750   76.45975   13.41146   16.13136  ...   41.92708   \n",
       "2  46.397570   638.8889   73.54598   13.32465   16.03733  ...   41.66666   \n",
       "3  46.397568   628.1250   76.98898   13.31742   16.24711  ...   40.88541   \n",
       "4  46.397568   636.4583   76.58897   13.35359   16.21094  ...   41.40625   \n",
       "\n",
       "   sensor_44  sensor_45  sensor_46  sensor_47  sensor_48  sensor_49  \\\n",
       "0  39.641200   65.68287   50.92593  38.194440   157.9861   67.70834   \n",
       "1  39.641200   65.68287   50.92593  38.194440   157.9861   67.70834   \n",
       "2  39.351852   65.39352   51.21528  38.194443   155.9606   67.12963   \n",
       "3  39.062500   64.81481   51.21528  38.194440   155.9606   66.84028   \n",
       "4  38.773150   65.10416   51.79398  38.773150   158.2755   66.55093   \n",
       "\n",
       "   sensor_50  sensor_51  machine_status  \n",
       "0   243.0556   201.3889          NORMAL  \n",
       "1   243.0556   201.3889          NORMAL  \n",
       "2   241.3194   203.7037          NORMAL  \n",
       "3   240.4514   203.1250          NORMAL  \n",
       "4   242.1875   201.3889          NORMAL  \n",
       "\n",
       "[5 rows x 55 columns]"
      ]
     },
     "execution_count": 2,
     "metadata": {},
     "output_type": "execute_result"
    }
   ],
   "source": [
    "# loading the data\n",
    "sensor_data = pd.read_csv('pump_sensor.csv')\n",
    "sensor_data.head()"
   ]
  },
  {
   "cell_type": "code",
   "execution_count": 3,
   "metadata": {},
   "outputs": [
    {
     "data": {
      "text/html": [
       "<div>\n",
       "<style scoped>\n",
       "    .dataframe tbody tr th:only-of-type {\n",
       "        vertical-align: middle;\n",
       "    }\n",
       "\n",
       "    .dataframe tbody tr th {\n",
       "        vertical-align: top;\n",
       "    }\n",
       "\n",
       "    .dataframe thead th {\n",
       "        text-align: right;\n",
       "    }\n",
       "</style>\n",
       "<table border=\"1\" class=\"dataframe\">\n",
       "  <thead>\n",
       "    <tr style=\"text-align: right;\">\n",
       "      <th></th>\n",
       "      <th>Unnamed: 0</th>\n",
       "      <th>timestamp</th>\n",
       "      <th>sensor_00</th>\n",
       "      <th>sensor_01</th>\n",
       "      <th>sensor_02</th>\n",
       "      <th>sensor_03</th>\n",
       "      <th>sensor_04</th>\n",
       "      <th>sensor_05</th>\n",
       "      <th>sensor_06</th>\n",
       "      <th>sensor_07</th>\n",
       "      <th>...</th>\n",
       "      <th>sensor_43</th>\n",
       "      <th>sensor_44</th>\n",
       "      <th>sensor_45</th>\n",
       "      <th>sensor_46</th>\n",
       "      <th>sensor_47</th>\n",
       "      <th>sensor_48</th>\n",
       "      <th>sensor_49</th>\n",
       "      <th>sensor_50</th>\n",
       "      <th>sensor_51</th>\n",
       "      <th>machine_status</th>\n",
       "    </tr>\n",
       "  </thead>\n",
       "  <tbody>\n",
       "    <tr>\n",
       "      <th>220315</th>\n",
       "      <td>220315</td>\n",
       "      <td>2018-08-31 23:55:00</td>\n",
       "      <td>2.407350</td>\n",
       "      <td>47.69965</td>\n",
       "      <td>50.520830</td>\n",
       "      <td>43.142361</td>\n",
       "      <td>634.722229</td>\n",
       "      <td>64.59095</td>\n",
       "      <td>15.11863</td>\n",
       "      <td>16.65220</td>\n",
       "      <td>...</td>\n",
       "      <td>38.28125</td>\n",
       "      <td>68.28703</td>\n",
       "      <td>52.37268</td>\n",
       "      <td>48.32176</td>\n",
       "      <td>41.087960</td>\n",
       "      <td>212.3843</td>\n",
       "      <td>153.6458</td>\n",
       "      <td>NaN</td>\n",
       "      <td>231.1921</td>\n",
       "      <td>NORMAL</td>\n",
       "    </tr>\n",
       "    <tr>\n",
       "      <th>220316</th>\n",
       "      <td>220316</td>\n",
       "      <td>2018-08-31 23:56:00</td>\n",
       "      <td>2.400463</td>\n",
       "      <td>47.69965</td>\n",
       "      <td>50.564240</td>\n",
       "      <td>43.142361</td>\n",
       "      <td>630.902771</td>\n",
       "      <td>65.83363</td>\n",
       "      <td>15.15480</td>\n",
       "      <td>16.70284</td>\n",
       "      <td>...</td>\n",
       "      <td>38.28125</td>\n",
       "      <td>66.84028</td>\n",
       "      <td>50.63657</td>\n",
       "      <td>48.03241</td>\n",
       "      <td>40.798610</td>\n",
       "      <td>213.8310</td>\n",
       "      <td>156.2500</td>\n",
       "      <td>NaN</td>\n",
       "      <td>231.1921</td>\n",
       "      <td>NORMAL</td>\n",
       "    </tr>\n",
       "    <tr>\n",
       "      <th>220317</th>\n",
       "      <td>220317</td>\n",
       "      <td>2018-08-31 23:57:00</td>\n",
       "      <td>2.396528</td>\n",
       "      <td>47.69965</td>\n",
       "      <td>50.520830</td>\n",
       "      <td>43.142361</td>\n",
       "      <td>625.925903</td>\n",
       "      <td>67.29445</td>\n",
       "      <td>15.08970</td>\n",
       "      <td>16.70284</td>\n",
       "      <td>...</td>\n",
       "      <td>39.06250</td>\n",
       "      <td>65.39352</td>\n",
       "      <td>48.90046</td>\n",
       "      <td>48.03241</td>\n",
       "      <td>40.798610</td>\n",
       "      <td>217.3032</td>\n",
       "      <td>155.3819</td>\n",
       "      <td>NaN</td>\n",
       "      <td>232.0602</td>\n",
       "      <td>NORMAL</td>\n",
       "    </tr>\n",
       "    <tr>\n",
       "      <th>220318</th>\n",
       "      <td>220318</td>\n",
       "      <td>2018-08-31 23:58:00</td>\n",
       "      <td>2.406366</td>\n",
       "      <td>47.69965</td>\n",
       "      <td>50.520832</td>\n",
       "      <td>43.142361</td>\n",
       "      <td>635.648100</td>\n",
       "      <td>65.09175</td>\n",
       "      <td>15.11863</td>\n",
       "      <td>16.56539</td>\n",
       "      <td>...</td>\n",
       "      <td>40.62500</td>\n",
       "      <td>64.23611</td>\n",
       "      <td>47.74306</td>\n",
       "      <td>48.32176</td>\n",
       "      <td>40.509258</td>\n",
       "      <td>222.5116</td>\n",
       "      <td>153.9352</td>\n",
       "      <td>NaN</td>\n",
       "      <td>234.0856</td>\n",
       "      <td>NORMAL</td>\n",
       "    </tr>\n",
       "    <tr>\n",
       "      <th>220319</th>\n",
       "      <td>220319</td>\n",
       "      <td>2018-08-31 23:59:00</td>\n",
       "      <td>2.396528</td>\n",
       "      <td>47.69965</td>\n",
       "      <td>50.520832</td>\n",
       "      <td>43.142361</td>\n",
       "      <td>639.814800</td>\n",
       "      <td>65.45634</td>\n",
       "      <td>15.11863</td>\n",
       "      <td>16.65220</td>\n",
       "      <td>...</td>\n",
       "      <td>41.40625</td>\n",
       "      <td>62.78935</td>\n",
       "      <td>46.29630</td>\n",
       "      <td>48.90046</td>\n",
       "      <td>40.219910</td>\n",
       "      <td>227.4306</td>\n",
       "      <td>150.4630</td>\n",
       "      <td>NaN</td>\n",
       "      <td>234.0856</td>\n",
       "      <td>NORMAL</td>\n",
       "    </tr>\n",
       "  </tbody>\n",
       "</table>\n",
       "<p>5 rows × 55 columns</p>\n",
       "</div>"
      ],
      "text/plain": [
       "        Unnamed: 0            timestamp  sensor_00  sensor_01  sensor_02  \\\n",
       "220315      220315  2018-08-31 23:55:00   2.407350   47.69965  50.520830   \n",
       "220316      220316  2018-08-31 23:56:00   2.400463   47.69965  50.564240   \n",
       "220317      220317  2018-08-31 23:57:00   2.396528   47.69965  50.520830   \n",
       "220318      220318  2018-08-31 23:58:00   2.406366   47.69965  50.520832   \n",
       "220319      220319  2018-08-31 23:59:00   2.396528   47.69965  50.520832   \n",
       "\n",
       "        sensor_03   sensor_04  sensor_05  sensor_06  sensor_07  ...  \\\n",
       "220315  43.142361  634.722229   64.59095   15.11863   16.65220  ...   \n",
       "220316  43.142361  630.902771   65.83363   15.15480   16.70284  ...   \n",
       "220317  43.142361  625.925903   67.29445   15.08970   16.70284  ...   \n",
       "220318  43.142361  635.648100   65.09175   15.11863   16.56539  ...   \n",
       "220319  43.142361  639.814800   65.45634   15.11863   16.65220  ...   \n",
       "\n",
       "        sensor_43  sensor_44  sensor_45  sensor_46  sensor_47  sensor_48  \\\n",
       "220315   38.28125   68.28703   52.37268   48.32176  41.087960   212.3843   \n",
       "220316   38.28125   66.84028   50.63657   48.03241  40.798610   213.8310   \n",
       "220317   39.06250   65.39352   48.90046   48.03241  40.798610   217.3032   \n",
       "220318   40.62500   64.23611   47.74306   48.32176  40.509258   222.5116   \n",
       "220319   41.40625   62.78935   46.29630   48.90046  40.219910   227.4306   \n",
       "\n",
       "        sensor_49  sensor_50  sensor_51  machine_status  \n",
       "220315   153.6458        NaN   231.1921          NORMAL  \n",
       "220316   156.2500        NaN   231.1921          NORMAL  \n",
       "220317   155.3819        NaN   232.0602          NORMAL  \n",
       "220318   153.9352        NaN   234.0856          NORMAL  \n",
       "220319   150.4630        NaN   234.0856          NORMAL  \n",
       "\n",
       "[5 rows x 55 columns]"
      ]
     },
     "execution_count": 3,
     "metadata": {},
     "output_type": "execute_result"
    }
   ],
   "source": [
    "sensor_data.tail()"
   ]
  },
  {
   "cell_type": "code",
   "execution_count": 4,
   "metadata": {
    "colab": {
     "base_uri": "https://localhost:8080/"
    },
    "id": "RqSAxvJxfbIu",
    "outputId": "ef2afff3-4076-4915-9053-4b60a66a1814"
   },
   "outputs": [
    {
     "name": "stdout",
     "output_type": "stream",
     "text": [
      "All the columns:\n",
      "\n",
      "Index(['Unnamed: 0', 'timestamp', 'sensor_00', 'sensor_01', 'sensor_02',\n",
      "       'sensor_03', 'sensor_04', 'sensor_05', 'sensor_06', 'sensor_07',\n",
      "       'sensor_08', 'sensor_09', 'sensor_10', 'sensor_11', 'sensor_12',\n",
      "       'sensor_13', 'sensor_14', 'sensor_15', 'sensor_16', 'sensor_17',\n",
      "       'sensor_18', 'sensor_19', 'sensor_20', 'sensor_21', 'sensor_22',\n",
      "       'sensor_23', 'sensor_24', 'sensor_25', 'sensor_26', 'sensor_27',\n",
      "       'sensor_28', 'sensor_29', 'sensor_30', 'sensor_31', 'sensor_32',\n",
      "       'sensor_33', 'sensor_34', 'sensor_35', 'sensor_36', 'sensor_37',\n",
      "       'sensor_38', 'sensor_39', 'sensor_40', 'sensor_41', 'sensor_42',\n",
      "       'sensor_43', 'sensor_44', 'sensor_45', 'sensor_46', 'sensor_47',\n",
      "       'sensor_48', 'sensor_49', 'sensor_50', 'sensor_51', 'machine_status'],\n",
      "      dtype='object')\n"
     ]
    }
   ],
   "source": [
    "print('All the columns:')\n",
    "print()\n",
    "print(sensor_data.columns)"
   ]
  },
  {
   "cell_type": "code",
   "execution_count": 5,
   "metadata": {
    "colab": {
     "base_uri": "https://localhost:8080/"
    },
    "id": "SIAkaU6wkRZf",
    "outputId": "138850cd-dbc5-4586-e62c-1af826f71dc5"
   },
   "outputs": [
    {
     "data": {
      "text/plain": [
       "220320"
      ]
     },
     "execution_count": 5,
     "metadata": {},
     "output_type": "execute_result"
    }
   ],
   "source": [
    "# total number of data points\n",
    "sensor_data.shape[0]"
   ]
  },
  {
   "attachments": {},
   "cell_type": "markdown",
   "metadata": {
    "id": "82Eilmq1fbIv"
   },
   "source": [
    "### Observations:\n",
    "* Dataset contains 220320 data points\n",
    "* Data contains readings from 52 sensors and corresponding time\n",
    "stamps\n",
    "* Sensor data of 5 months from April to August is provided. Each\n",
    "row contains sensor  \n",
    "readings after every minute\n",
    "* What parameter each sensor is measuring is not specified"
   ]
  },
  {
   "attachments": {},
   "cell_type": "markdown",
   "metadata": {
    "id": "85HYH244fbIv"
   },
   "source": [
    "## EDA and Data Preprocessing-I:"
   ]
  },
  {
   "attachments": {},
   "cell_type": "markdown",
   "metadata": {
    "id": "j8pz9OCRfbIv"
   },
   "source": [
    "### Class Distribution:"
   ]
  },
  {
   "cell_type": "code",
   "execution_count": 15,
   "metadata": {
    "id": "401IQwEJfbIw"
   },
   "outputs": [
    {
     "data": {
      "image/png": "[encoded data removed]",
      "text/plain": [
       "<Figure size 640x480 with 1 Axes>"
      ]
     },
     "metadata": {},
     "output_type": "display_data"
    }
   ],
   "source": [
    "import seaborn as sns\n",
    "import matplotlib.pyplot as plt\n",
    "\n",
    "def get_class_distribution(df, col=None):\n",
    "    \"\"\"\n",
    "    Function to plot class distribution\n",
    "    \"\"\"\n",
    "    if col == 'machine_status': # if column = machine_status\n",
    "        # Counting class labels\n",
    "        label_count = df['machine_status'].value_counts() \n",
    "    elif col == 'label': # if column = label\n",
    "        label_count = df['label'].value_counts()\n",
    "    else:\n",
    "        label_count = df.value_counts()\n",
    "    # bar plot\n",
    "    plot = sns.barplot(x=list(label_count.index), y=list(label_count.values))\n",
    "    plt.title('Class Distribution')\n",
    "    plt.xlabel('Class Label')\n",
    "    plt.ylabel('Count')\n",
    "\n",
    "    # adding class count to the barplot\n",
    "    for patch in plot.patches:\n",
    "        # formatting and positioning the count values\n",
    "        plot.annotate('{:n}'.format(patch.get_height()), \n",
    "                      (patch.get_x()+0.25, patch.get_height()+1)) \n",
    "    plt.show()\n",
    "\n",
    "# Example usage\n",
    "get_class_distribution(sensor_data, 'machine_status')"
   ]
  },
  {
   "attachments": {},
   "cell_type": "markdown",
   "metadata": {
    "id": "80oqD9XEl-pO"
   },
   "source": [
    "### Machine Status"
   ]
  },
  {
   "cell_type": "code",
   "execution_count": 16,
   "metadata": {
    "colab": {
     "base_uri": "https://localhost:8080/",
     "height": 295
    },
    "id": "WTL1MnK_fbIx",
    "outputId": "e6a7463b-9441-417b-896a-8f2a3c75fcb7"
   },
   "outputs": [
    {
     "data": {
      "image/png": "[encoded data removed]",
      "text/plain": [
       "<Figure size 640x480 with 1 Axes>"
      ]
     },
     "metadata": {},
     "output_type": "display_data"
    }
   ],
   "source": [
    "# label encoding\n",
    "le = preprocessing.LabelEncoder() # creating label encoder\n",
    "y = le.fit_transform(sensor_data['machine_status']) # fitting on labels\n",
    "x = list(sensor_data.index)\n",
    "plt.plot(x, y)\n",
    "plt.xlabel('Time Step')\n",
    "plt.ylabel('Machine Status')\n",
    "plt.title('Machine Status vs Time Step')\n",
    "\n",
    "encode_labels = list(le.transform(list(le.classes_))) # encoded labels\n",
    "labels = list(le.classes_) # labels\n",
    "plt.yticks(encode_labels, labels)\n",
    "plt.show()"
   ]
  },
  {
   "cell_type": "code",
   "execution_count": null,
   "metadata": {
    "id": "ib1SSg9DfbIx"
   },
   "outputs": [],
   "source": []
  },
  {
   "attachments": {},
   "cell_type": "markdown",
   "metadata": {
    "id": "YUzCHXdIodoq"
   },
   "source": [
    "### Relabeling the data"
   ]
  },
  {
   "cell_type": "code",
   "execution_count": 31,
   "metadata": {
    "colab": {
     "base_uri": "https://localhost:8080/",
     "height": 682
    },
    "id": "kGc5j5K9fbIx",
    "outputId": "8529e4f7-9b70-4bac-97a2-e1472e5adc10"
   },
   "outputs": [
    {
     "data": {
      "image/png": "[encoded data removed]",
      "text/plain": [
       "<Figure size 640x480 with 1 Axes>"
      ]
     },
     "metadata": {},
     "output_type": "display_data"
    },
    {
     "name": "stdout",
     "output_type": "stream",
     "text": [
      "\n",
      "Machine status after re-labeling the data\n",
      "\n"
     ]
    },
    {
     "data": {
      "image/png": "[encoded data removed]",
      "text/plain": [
       "<Figure size 640x480 with 1 Axes>"
      ]
     },
     "metadata": {},
     "output_type": "display_data"
    }
   ],
   "source": [
    "# encoding labels as 0 and 1\n",
    "# 0 = normal\n",
    "# 1 = broken\n",
    "sensor_data['label'] = sensor_data['machine_status'].map(lambda label: 0\n",
    "                                                if label == 'NORMAL' else 1) \n",
    "\n",
    "get_class_distribution(sensor_data, 'label')\n",
    "print()\n",
    "\n",
    "\n",
    "# changing machine status recovery to broken\n",
    "sensor_data['new_machine_status'] = sensor_data['machine_status'].map(lambda \n",
    "                        label:  'BROKEN' if label != 'NORMAL' else 'NORMAL')\n",
    "\n",
    "\n",
    "print(\"Machine status after re-labeling the data\")\n",
    "print()\n",
    "x = list(sensor_data.index) \n",
    "\n",
    "# reversing labels for better visualization\n",
    "y = list(sensor_data['label'])\n",
    "\n",
    "plt.plot(x, y)\n",
    "plt.xlabel('Time Step')\n",
    "plt.ylabel('Machine Status')\n",
    "plt.title('Machine Status vs Time Step')\n",
    "\n",
    "encode_labels = [0, 1] # encoded labels\n",
    "labels = ['Normal', 'Broken'] # labels \n",
    "plt.yticks(encode_labels, labels)\n",
    "plt.show()"
   ]
  },
  {
   "attachments": {},
   "cell_type": "markdown",
   "metadata": {
    "id": "6x1mtGTkfbIy"
   },
   "source": [
    "#### Observations:\n",
    "* Number of NORMAL(label = 1) class points = 205836\n",
    "* Number of BROKEN(label = 0) class points = 14484"
   ]
  },
  {
   "cell_type": "code",
   "execution_count": null,
   "metadata": {},
   "outputs": [
    {
     "data": {
      "text/html": [
       "<div>\n",
       "<style scoped>\n",
       "    .dataframe tbody tr th:only-of-type {\n",
       "        vertical-align: middle;\n",
       "    }\n",
       "\n",
       "    .dataframe tbody tr th {\n",
       "        vertical-align: top;\n",
       "    }\n",
       "\n",
       "    .dataframe thead th {\n",
       "        text-align: right;\n",
       "    }\n",
       "</style>\n",
       "<table border=\"1\" class=\"dataframe\">\n",
       "  <thead>\n",
       "    <tr style=\"text-align: right;\">\n",
       "      <th></th>\n",
       "      <th>Unnamed: 0</th>\n",
       "      <th>timestamp</th>\n",
       "      <th>sensor_00</th>\n",
       "      <th>sensor_01</th>\n",
       "      <th>sensor_02</th>\n",
       "      <th>sensor_03</th>\n",
       "      <th>sensor_04</th>\n",
       "      <th>sensor_05</th>\n",
       "      <th>sensor_06</th>\n",
       "      <th>sensor_07</th>\n",
       "      <th>...</th>\n",
       "      <th>sensor_45</th>\n",
       "      <th>sensor_46</th>\n",
       "      <th>sensor_47</th>\n",
       "      <th>sensor_48</th>\n",
       "      <th>sensor_49</th>\n",
       "      <th>sensor_50</th>\n",
       "      <th>sensor_51</th>\n",
       "      <th>machine_status</th>\n",
       "      <th>label</th>\n",
       "      <th>new_machine_status</th>\n",
       "    </tr>\n",
       "  </thead>\n",
       "  <tbody>\n",
       "    <tr>\n",
       "      <th>0</th>\n",
       "      <td>0</td>\n",
       "      <td>2018-04-01 00:00:00</td>\n",
       "      <td>2.465394</td>\n",
       "      <td>47.09201</td>\n",
       "      <td>53.211800</td>\n",
       "      <td>46.310760</td>\n",
       "      <td>634.375000</td>\n",
       "      <td>76.45975</td>\n",
       "      <td>13.41146</td>\n",
       "      <td>16.13136</td>\n",
       "      <td>...</td>\n",
       "      <td>65.68287</td>\n",
       "      <td>50.92593</td>\n",
       "      <td>38.194440</td>\n",
       "      <td>157.9861</td>\n",
       "      <td>67.70834</td>\n",
       "      <td>243.0556</td>\n",
       "      <td>201.3889</td>\n",
       "      <td>NORMAL</td>\n",
       "      <td>0</td>\n",
       "      <td>NORMAL</td>\n",
       "    </tr>\n",
       "    <tr>\n",
       "      <th>1</th>\n",
       "      <td>1</td>\n",
       "      <td>2018-04-01 00:01:00</td>\n",
       "      <td>2.465394</td>\n",
       "      <td>47.09201</td>\n",
       "      <td>53.211800</td>\n",
       "      <td>46.310760</td>\n",
       "      <td>634.375000</td>\n",
       "      <td>76.45975</td>\n",
       "      <td>13.41146</td>\n",
       "      <td>16.13136</td>\n",
       "      <td>...</td>\n",
       "      <td>65.68287</td>\n",
       "      <td>50.92593</td>\n",
       "      <td>38.194440</td>\n",
       "      <td>157.9861</td>\n",
       "      <td>67.70834</td>\n",
       "      <td>243.0556</td>\n",
       "      <td>201.3889</td>\n",
       "      <td>NORMAL</td>\n",
       "      <td>0</td>\n",
       "      <td>NORMAL</td>\n",
       "    </tr>\n",
       "    <tr>\n",
       "      <th>2</th>\n",
       "      <td>2</td>\n",
       "      <td>2018-04-01 00:02:00</td>\n",
       "      <td>2.444734</td>\n",
       "      <td>47.35243</td>\n",
       "      <td>53.211800</td>\n",
       "      <td>46.397570</td>\n",
       "      <td>638.888900</td>\n",
       "      <td>73.54598</td>\n",
       "      <td>13.32465</td>\n",
       "      <td>16.03733</td>\n",
       "      <td>...</td>\n",
       "      <td>65.39352</td>\n",
       "      <td>51.21528</td>\n",
       "      <td>38.194443</td>\n",
       "      <td>155.9606</td>\n",
       "      <td>67.12963</td>\n",
       "      <td>241.3194</td>\n",
       "      <td>203.7037</td>\n",
       "      <td>NORMAL</td>\n",
       "      <td>0</td>\n",
       "      <td>NORMAL</td>\n",
       "    </tr>\n",
       "    <tr>\n",
       "      <th>3</th>\n",
       "      <td>3</td>\n",
       "      <td>2018-04-01 00:03:00</td>\n",
       "      <td>2.460474</td>\n",
       "      <td>47.09201</td>\n",
       "      <td>53.168400</td>\n",
       "      <td>46.397568</td>\n",
       "      <td>628.125000</td>\n",
       "      <td>76.98898</td>\n",
       "      <td>13.31742</td>\n",
       "      <td>16.24711</td>\n",
       "      <td>...</td>\n",
       "      <td>64.81481</td>\n",
       "      <td>51.21528</td>\n",
       "      <td>38.194440</td>\n",
       "      <td>155.9606</td>\n",
       "      <td>66.84028</td>\n",
       "      <td>240.4514</td>\n",
       "      <td>203.1250</td>\n",
       "      <td>NORMAL</td>\n",
       "      <td>0</td>\n",
       "      <td>NORMAL</td>\n",
       "    </tr>\n",
       "    <tr>\n",
       "      <th>4</th>\n",
       "      <td>4</td>\n",
       "      <td>2018-04-01 00:04:00</td>\n",
       "      <td>2.445718</td>\n",
       "      <td>47.13541</td>\n",
       "      <td>53.211800</td>\n",
       "      <td>46.397568</td>\n",
       "      <td>636.458300</td>\n",
       "      <td>76.58897</td>\n",
       "      <td>13.35359</td>\n",
       "      <td>16.21094</td>\n",
       "      <td>...</td>\n",
       "      <td>65.10416</td>\n",
       "      <td>51.79398</td>\n",
       "      <td>38.773150</td>\n",
       "      <td>158.2755</td>\n",
       "      <td>66.55093</td>\n",
       "      <td>242.1875</td>\n",
       "      <td>201.3889</td>\n",
       "      <td>NORMAL</td>\n",
       "      <td>0</td>\n",
       "      <td>NORMAL</td>\n",
       "    </tr>\n",
       "    <tr>\n",
       "      <th>...</th>\n",
       "      <td>...</td>\n",
       "      <td>...</td>\n",
       "      <td>...</td>\n",
       "      <td>...</td>\n",
       "      <td>...</td>\n",
       "      <td>...</td>\n",
       "      <td>...</td>\n",
       "      <td>...</td>\n",
       "      <td>...</td>\n",
       "      <td>...</td>\n",
       "      <td>...</td>\n",
       "      <td>...</td>\n",
       "      <td>...</td>\n",
       "      <td>...</td>\n",
       "      <td>...</td>\n",
       "      <td>...</td>\n",
       "      <td>...</td>\n",
       "      <td>...</td>\n",
       "      <td>...</td>\n",
       "      <td>...</td>\n",
       "      <td>...</td>\n",
       "    </tr>\n",
       "    <tr>\n",
       "      <th>220315</th>\n",
       "      <td>220315</td>\n",
       "      <td>2018-08-31 23:55:00</td>\n",
       "      <td>2.407350</td>\n",
       "      <td>47.69965</td>\n",
       "      <td>50.520830</td>\n",
       "      <td>43.142361</td>\n",
       "      <td>634.722229</td>\n",
       "      <td>64.59095</td>\n",
       "      <td>15.11863</td>\n",
       "      <td>16.65220</td>\n",
       "      <td>...</td>\n",
       "      <td>52.37268</td>\n",
       "      <td>48.32176</td>\n",
       "      <td>41.087960</td>\n",
       "      <td>212.3843</td>\n",
       "      <td>153.64580</td>\n",
       "      <td>NaN</td>\n",
       "      <td>231.1921</td>\n",
       "      <td>NORMAL</td>\n",
       "      <td>0</td>\n",
       "      <td>NORMAL</td>\n",
       "    </tr>\n",
       "    <tr>\n",
       "      <th>220316</th>\n",
       "      <td>220316</td>\n",
       "      <td>2018-08-31 23:56:00</td>\n",
       "      <td>2.400463</td>\n",
       "      <td>47.69965</td>\n",
       "      <td>50.564240</td>\n",
       "      <td>43.142361</td>\n",
       "      <td>630.902771</td>\n",
       "      <td>65.83363</td>\n",
       "      <td>15.15480</td>\n",
       "      <td>16.70284</td>\n",
       "      <td>...</td>\n",
       "      <td>50.63657</td>\n",
       "      <td>48.03241</td>\n",
       "      <td>40.798610</td>\n",
       "      <td>213.8310</td>\n",
       "      <td>156.25000</td>\n",
       "      <td>NaN</td>\n",
       "      <td>231.1921</td>\n",
       "      <td>NORMAL</td>\n",
       "      <td>0</td>\n",
       "      <td>NORMAL</td>\n",
       "    </tr>\n",
       "    <tr>\n",
       "      <th>220317</th>\n",
       "      <td>220317</td>\n",
       "      <td>2018-08-31 23:57:00</td>\n",
       "      <td>2.396528</td>\n",
       "      <td>47.69965</td>\n",
       "      <td>50.520830</td>\n",
       "      <td>43.142361</td>\n",
       "      <td>625.925903</td>\n",
       "      <td>67.29445</td>\n",
       "      <td>15.08970</td>\n",
       "      <td>16.70284</td>\n",
       "      <td>...</td>\n",
       "      <td>48.90046</td>\n",
       "      <td>48.03241</td>\n",
       "      <td>40.798610</td>\n",
       "      <td>217.3032</td>\n",
       "      <td>155.38190</td>\n",
       "      <td>NaN</td>\n",
       "      <td>232.0602</td>\n",
       "      <td>NORMAL</td>\n",
       "      <td>0</td>\n",
       "      <td>NORMAL</td>\n",
       "    </tr>\n",
       "    <tr>\n",
       "      <th>220318</th>\n",
       "      <td>220318</td>\n",
       "      <td>2018-08-31 23:58:00</td>\n",
       "      <td>2.406366</td>\n",
       "      <td>47.69965</td>\n",
       "      <td>50.520832</td>\n",
       "      <td>43.142361</td>\n",
       "      <td>635.648100</td>\n",
       "      <td>65.09175</td>\n",
       "      <td>15.11863</td>\n",
       "      <td>16.56539</td>\n",
       "      <td>...</td>\n",
       "      <td>47.74306</td>\n",
       "      <td>48.32176</td>\n",
       "      <td>40.509258</td>\n",
       "      <td>222.5116</td>\n",
       "      <td>153.93520</td>\n",
       "      <td>NaN</td>\n",
       "      <td>234.0856</td>\n",
       "      <td>NORMAL</td>\n",
       "      <td>0</td>\n",
       "      <td>NORMAL</td>\n",
       "    </tr>\n",
       "    <tr>\n",
       "      <th>220319</th>\n",
       "      <td>220319</td>\n",
       "      <td>2018-08-31 23:59:00</td>\n",
       "      <td>2.396528</td>\n",
       "      <td>47.69965</td>\n",
       "      <td>50.520832</td>\n",
       "      <td>43.142361</td>\n",
       "      <td>639.814800</td>\n",
       "      <td>65.45634</td>\n",
       "      <td>15.11863</td>\n",
       "      <td>16.65220</td>\n",
       "      <td>...</td>\n",
       "      <td>46.29630</td>\n",
       "      <td>48.90046</td>\n",
       "      <td>40.219910</td>\n",
       "      <td>227.4306</td>\n",
       "      <td>150.46300</td>\n",
       "      <td>NaN</td>\n",
       "      <td>234.0856</td>\n",
       "      <td>NORMAL</td>\n",
       "      <td>0</td>\n",
       "      <td>NORMAL</td>\n",
       "    </tr>\n",
       "  </tbody>\n",
       "</table>\n",
       "<p>220320 rows × 57 columns</p>\n",
       "</div>"
      ],
      "text/plain": [
       "        Unnamed: 0            timestamp  sensor_00  sensor_01  sensor_02  \\\n",
       "0                0  2018-04-01 00:00:00   2.465394   47.09201  53.211800   \n",
       "1                1  2018-04-01 00:01:00   2.465394   47.09201  53.211800   \n",
       "2                2  2018-04-01 00:02:00   2.444734   47.35243  53.211800   \n",
       "3                3  2018-04-01 00:03:00   2.460474   47.09201  53.168400   \n",
       "4                4  2018-04-01 00:04:00   2.445718   47.13541  53.211800   \n",
       "...            ...                  ...        ...        ...        ...   \n",
       "220315      220315  2018-08-31 23:55:00   2.407350   47.69965  50.520830   \n",
       "220316      220316  2018-08-31 23:56:00   2.400463   47.69965  50.564240   \n",
       "220317      220317  2018-08-31 23:57:00   2.396528   47.69965  50.520830   \n",
       "220318      220318  2018-08-31 23:58:00   2.406366   47.69965  50.520832   \n",
       "220319      220319  2018-08-31 23:59:00   2.396528   47.69965  50.520832   \n",
       "\n",
       "        sensor_03   sensor_04  sensor_05  sensor_06  sensor_07  ...  \\\n",
       "0       46.310760  634.375000   76.45975   13.41146   16.13136  ...   \n",
       "1       46.310760  634.375000   76.45975   13.41146   16.13136  ...   \n",
       "2       46.397570  638.888900   73.54598   13.32465   16.03733  ...   \n",
       "3       46.397568  628.125000   76.98898   13.31742   16.24711  ...   \n",
       "4       46.397568  636.458300   76.58897   13.35359   16.21094  ...   \n",
       "...           ...         ...        ...        ...        ...  ...   \n",
       "220315  43.142361  634.722229   64.59095   15.11863   16.65220  ...   \n",
       "220316  43.142361  630.902771   65.83363   15.15480   16.70284  ...   \n",
       "220317  43.142361  625.925903   67.29445   15.08970   16.70284  ...   \n",
       "220318  43.142361  635.648100   65.09175   15.11863   16.56539  ...   \n",
       "220319  43.142361  639.814800   65.45634   15.11863   16.65220  ...   \n",
       "\n",
       "        sensor_45  sensor_46  sensor_47  sensor_48  sensor_49  sensor_50  \\\n",
       "0        65.68287   50.92593  38.194440   157.9861   67.70834   243.0556   \n",
       "1        65.68287   50.92593  38.194440   157.9861   67.70834   243.0556   \n",
       "2        65.39352   51.21528  38.194443   155.9606   67.12963   241.3194   \n",
       "3        64.81481   51.21528  38.194440   155.9606   66.84028   240.4514   \n",
       "4        65.10416   51.79398  38.773150   158.2755   66.55093   242.1875   \n",
       "...           ...        ...        ...        ...        ...        ...   \n",
       "220315   52.37268   48.32176  41.087960   212.3843  153.64580        NaN   \n",
       "220316   50.63657   48.03241  40.798610   213.8310  156.25000        NaN   \n",
       "220317   48.90046   48.03241  40.798610   217.3032  155.38190        NaN   \n",
       "220318   47.74306   48.32176  40.509258   222.5116  153.93520        NaN   \n",
       "220319   46.29630   48.90046  40.219910   227.4306  150.46300        NaN   \n",
       "\n",
       "        sensor_51  machine_status  label  new_machine_status  \n",
       "0        201.3889          NORMAL      0              NORMAL  \n",
       "1        201.3889          NORMAL      0              NORMAL  \n",
       "2        203.7037          NORMAL      0              NORMAL  \n",
       "3        203.1250          NORMAL      0              NORMAL  \n",
       "4        201.3889          NORMAL      0              NORMAL  \n",
       "...           ...             ...    ...                 ...  \n",
       "220315   231.1921          NORMAL      0              NORMAL  \n",
       "220316   231.1921          NORMAL      0              NORMAL  \n",
       "220317   232.0602          NORMAL      0              NORMAL  \n",
       "220318   234.0856          NORMAL      0              NORMAL  \n",
       "220319   234.0856          NORMAL      0              NORMAL  \n",
       "\n",
       "[220320 rows x 57 columns]"
      ]
     },
     "execution_count": 33,
     "metadata": {},
     "output_type": "execute_result"
    }
   ],
   "source": [
    "sensor_data"
   ]
  },
  {
   "attachments": {},
   "cell_type": "markdown",
   "metadata": {
    "id": "iW_0tCkgfbIy"
   },
   "source": [
    "### Missing Values:"
   ]
  },
  {
   "cell_type": "code",
   "execution_count": 37,
   "metadata": {
    "colab": {
     "base_uri": "https://localhost:8080/",
     "height": 930
    },
    "id": "XO4S2HvAfbIy",
    "outputId": "4a805a9f-7269-4b7d-9312-8f2917b8ce71"
   },
   "outputs": [
    {
     "name": "stdout",
     "output_type": "stream",
     "text": [
      "Missing Value Count\n",
      "\n"
     ]
    },
    {
     "data": {
      "image/png": "[encoded data removed]",
      "text/plain": [
       "<Figure size 1000x1500 with 1 Axes>"
      ]
     },
     "metadata": {},
     "output_type": "display_data"
    }
   ],
   "source": [
    "print(\"Missing Value Count\")\n",
    "print()\n",
    "\n",
    "null_count = sensor_data.isna().sum()# count null values\n",
    "# considering only sensor columns\n",
    "null_count = null_count[2:-3] \n",
    "\n",
    "count_dict = {}\n",
    "\n",
    "# creating dictionary of column and null value count\n",
    "for i, j in zip(null_count.index, null_count.values):\n",
    "    count_dict[i] = j\n",
    "\n",
    "# sorting the dictionary\n",
    "count_dict = {k:v for k, v in sorted(count_dict.items(), \n",
    "                                     key=lambda item: item[1], reverse=True)}\n",
    "sns.set_style(style=\"whitegrid\")\n",
    "plt.figure(figsize=(10,15))\n",
    "plot = sns.barplot(x=list(count_dict.values()), \n",
    "                   y=list(count_dict.keys()), palette='Paired')\n",
    "\n",
    "for p in plot.patches:\n",
    "    _x = p.get_x() + p.get_width() + 0.5 \n",
    "    _y = p.get_y() + p.get_height() - 0.25 \n",
    "    value = int(p.get_width())\n",
    "    plot.text(_x, _y, value, ha=\"left\")\n",
    "\n",
    "plot.set_title(\"Missing value count\")\n",
    "plot.set_ylabel(\"Sensor\")\n",
    "plot.set_xlabel(\"Count\")\n",
    "plt.show()"
   ]
  },
  {
   "cell_type": "code",
   "execution_count": 38,
   "metadata": {
    "colab": {
     "base_uri": "https://localhost:8080/",
     "height": 930
    },
    "id": "-ExA4d1gfbIz",
    "outputId": "dbfedc1e-b14c-493d-c70b-7016605149f0"
   },
   "outputs": [
    {
     "name": "stdout",
     "output_type": "stream",
     "text": [
      "Percentage Missing Values \n",
      "\n"
     ]
    },
    {
     "data": {
      "image/png": "[encoded data removed]",
      "text/plain": [
       "<Figure size 1000x1500 with 1 Axes>"
      ]
     },
     "metadata": {},
     "output_type": "display_data"
    }
   ],
   "source": [
    "print(\"Percentage Missing Values \")\n",
    "print()\n",
    "\n",
    "# percentage null values\n",
    "null_count = sensor_data.isna().sum()/sensor_data.shape[0] * 100 \n",
    "null_count = null_count[2:-3] # considering only sensor columns\n",
    "\n",
    "percent_null = {}\n",
    "\n",
    "# creating dictionary of column and percentage null value\n",
    "for i, j in zip(null_count.index, null_count.values):\n",
    "    percent_null[i] = j\n",
    "\n",
    "# sorting the dictionary\n",
    "percent_null = {k:v for k, v in sorted(percent_null.items(), \n",
    "                                       key=lambda item: item[1], reverse=True)}\n",
    "\n",
    "sns.set_style(style=\"whitegrid\")\n",
    "plt.figure(figsize=(10,15))\n",
    "\n",
    "plot = sns.barplot(x=list(percent_null.values()), \n",
    "                   y=list(percent_null.keys()), palette='Paired')\n",
    "\n",
    "for p in plot.patches:\n",
    "    _x = p.get_x() + p.get_width() + 0.5\n",
    "    _y = p.get_y() + p.get_height() - 0.25\n",
    "    value = f'{int(p.get_width())}%'\n",
    "    plot.text(_x, _y, value, ha=\"left\")\n",
    "\n",
    "plot.set_title(\"Percentage missing values\")\n",
    "plot.set_ylabel(\"Sensor\")\n",
    "plot.set_xlabel(\"Percentage\")\n",
    "plt.show()"
   ]
  },
  {
   "attachments": {},
   "cell_type": "markdown",
   "metadata": {
    "id": "Zp5s19GdfbIz"
   },
   "source": [
    "### Plot Missing Values:"
   ]
  },
  {
   "cell_type": "code",
   "execution_count": 39,
   "metadata": {
    "id": "ZUfQMBtjfbIz"
   },
   "outputs": [],
   "source": [
    "def plot_missing (sensor_num, df):\n",
    "    \"\"\"\n",
    "    Function to plot machine status, sensor readings variation with time\n",
    "    Also to plot missing values\n",
    "    \"\"\"\n",
    "    scaler = MinMaxScaler()\n",
    "    scaled = scaler.fit_transform(df[[sensor_num]])\n",
    "    null_sensor = df[df[sensor_num].isnull()][sensor_num]\n",
    "\n",
    "    plt.figure(figsize=(10, 4))\n",
    "    plt.plot(list(df.index), list(scaled), label='readings')\n",
    "    plt.scatter(list(null_sensor.index), [0]*len(null_sensor.index), \n",
    "                color = 'red', label='missing values')\n",
    "    \n",
    "    # reversing labels for better visualization\n",
    "    y = list(sensor_data['label'].map(lambda label:  1 if label == 0 else 0))\n",
    "    plt.plot(list(df.index), y, color = 'green', label='machine status')\n",
    "\n",
    "    encode_labels = [1, 0] # encoded labels\n",
    "    labels = ['NORMAL', 'BROKEN'] # labels\n",
    "    plt.yticks(encode_labels, labels)\n",
    "\n",
    "    plt.legend()\n",
    "    plt.xlabel('Time Step')\n",
    "    plt.ylabel(f'{sensor_num} readings')\n",
    "    plt.title(f'{sensor_num} readings vs Time')\n",
    "    plt.show()"
   ]
  },
  {
   "attachments": {},
   "cell_type": "markdown",
   "metadata": {
    "id": "eNUL8oLHfbIz"
   },
   "source": [
    "#### Sensor_50"
   ]
  },
  {
   "cell_type": "code",
   "execution_count": null,
   "metadata": {
    "colab": {
     "base_uri": "https://localhost:8080/",
     "height": 295
    },
    "id": "oevNjwqUfbIz",
    "outputId": "75594982-e872-4fff-f210-a87647cc4ef4"
   },
   "outputs": [],
   "source": [
    "plot_missing('sensor_50', sensor_data)"
   ]
  },
  {
   "attachments": {},
   "cell_type": "markdown",
   "metadata": {
    "id": "oX0bq_1HfbI0"
   },
   "source": [
    "#### Sensor_51"
   ]
  },
  {
   "cell_type": "code",
   "execution_count": null,
   "metadata": {
    "colab": {
     "base_uri": "https://localhost:8080/",
     "height": 295
    },
    "id": "8IvI6W2UfbI0",
    "outputId": "74a40ad7-1760-4841-a3f9-51c58f329bc4"
   },
   "outputs": [],
   "source": [
    "plot_missing('sensor_51', sensor_data)"
   ]
  },
  {
   "attachments": {},
   "cell_type": "markdown",
   "metadata": {
    "id": "-TK8OsCnfbI0"
   },
   "source": [
    "#### Sensor_00"
   ]
  },
  {
   "cell_type": "code",
   "execution_count": null,
   "metadata": {
    "colab": {
     "base_uri": "https://localhost:8080/",
     "height": 295
    },
    "id": "t0IIEaiNfbI0",
    "outputId": "0ded062c-2985-4b1f-c860-d4d3ca182a61"
   },
   "outputs": [],
   "source": [
    "plot_missing('sensor_00', sensor_data)"
   ]
  },
  {
   "attachments": {},
   "cell_type": "markdown",
   "metadata": {
    "id": "92quNkA7fbI0"
   },
   "source": [
    "#### Sensor_07"
   ]
  },
  {
   "cell_type": "code",
   "execution_count": null,
   "metadata": {
    "colab": {
     "base_uri": "https://localhost:8080/",
     "height": 295
    },
    "id": "tWyFCRRVfbI1",
    "outputId": "351dcf45-bb25-4735-b119-4b2072d463b7"
   },
   "outputs": [],
   "source": [
    "plot_missing('sensor_07', sensor_data)"
   ]
  },
  {
   "attachments": {},
   "cell_type": "markdown",
   "metadata": {
    "id": "-A85X5BWfbI1"
   },
   "source": [
    "#### Sensor_08"
   ]
  },
  {
   "cell_type": "code",
   "execution_count": null,
   "metadata": {
    "colab": {
     "base_uri": "https://localhost:8080/",
     "height": 295
    },
    "id": "tgNbwS7HfbI1",
    "outputId": "301b2108-cfa9-4327-c8d4-380d505ff2eb"
   },
   "outputs": [],
   "source": [
    "plot_missing('sensor_08', sensor_data)"
   ]
  },
  {
   "attachments": {},
   "cell_type": "markdown",
   "metadata": {
    "id": "0VxgTPULfbI1"
   },
   "source": [
    "#### Sensor_06"
   ]
  },
  {
   "cell_type": "code",
   "execution_count": null,
   "metadata": {
    "colab": {
     "base_uri": "https://localhost:8080/",
     "height": 295
    },
    "id": "m787-8-ffbI1",
    "outputId": "d41c6342-a4f0-443c-ce53-811053064466"
   },
   "outputs": [],
   "source": [
    "plot_missing('sensor_06', sensor_data)"
   ]
  },
  {
   "attachments": {},
   "cell_type": "markdown",
   "metadata": {
    "id": "88MEnVh_fbI1"
   },
   "source": [
    "#### Sensor_09"
   ]
  },
  {
   "cell_type": "code",
   "execution_count": null,
   "metadata": {
    "colab": {
     "base_uri": "https://localhost:8080/",
     "height": 295
    },
    "id": "k0O4T7yhfbI2",
    "outputId": "9632a0c9-3020-464a-887c-057e24ac853c"
   },
   "outputs": [],
   "source": [
    "plot_missing('sensor_09', sensor_data)"
   ]
  },
  {
   "attachments": {},
   "cell_type": "markdown",
   "metadata": {
    "id": "fKXg6iQGfbI2"
   },
   "source": [
    "#### Sensor_01"
   ]
  },
  {
   "cell_type": "code",
   "execution_count": null,
   "metadata": {
    "colab": {
     "base_uri": "https://localhost:8080/",
     "height": 295
    },
    "id": "57cxYjK9fbI2",
    "outputId": "3529d3bd-1d7a-4bff-fda3-c55b8665cef0"
   },
   "outputs": [],
   "source": [
    "plot_missing('sensor_01', sensor_data)"
   ]
  },
  {
   "attachments": {},
   "cell_type": "markdown",
   "metadata": {
    "id": "zAzqN2-UfbI2"
   },
   "source": [
    "#### Sensor_30"
   ]
  },
  {
   "cell_type": "code",
   "execution_count": null,
   "metadata": {
    "colab": {
     "base_uri": "https://localhost:8080/",
     "height": 295
    },
    "id": "H8bpcNhOfbI2",
    "outputId": "888a1981-4daf-4ae7-d635-2f7e5bd56122"
   },
   "outputs": [],
   "source": [
    "plot_missing('sensor_30', sensor_data)"
   ]
  },
  {
   "attachments": {},
   "cell_type": "markdown",
   "metadata": {
    "id": "i-smVoJ2fbI2"
   },
   "source": [
    "#### Sensor_29"
   ]
  },
  {
   "cell_type": "code",
   "execution_count": null,
   "metadata": {
    "colab": {
     "base_uri": "https://localhost:8080/",
     "height": 295
    },
    "id": "osm4DqbsfbI3",
    "outputId": "5011f601-9d8d-47d6-d199-71edd9529d5d"
   },
   "outputs": [],
   "source": [
    "plot_missing('sensor_29', sensor_data)"
   ]
  },
  {
   "attachments": {},
   "cell_type": "markdown",
   "metadata": {
    "id": "pglGl5PWfbI3"
   },
   "source": [
    "#### Sensor_32"
   ]
  },
  {
   "cell_type": "code",
   "execution_count": null,
   "metadata": {
    "colab": {
     "base_uri": "https://localhost:8080/",
     "height": 295
    },
    "id": "rTgkWnhtfbI3",
    "outputId": "1a6f381b-e27d-4729-b757-2b122dcd56b0"
   },
   "outputs": [],
   "source": [
    "plot_missing('sensor_32', sensor_data)"
   ]
  },
  {
   "attachments": {},
   "cell_type": "markdown",
   "metadata": {
    "id": "FkVcZMMAfbI3"
   },
   "source": [
    "#### Sensor_17"
   ]
  },
  {
   "cell_type": "code",
   "execution_count": null,
   "metadata": {
    "colab": {
     "base_uri": "https://localhost:8080/",
     "height": 295
    },
    "id": "p6elAUf4fbI3",
    "outputId": "c2bc2cad-2c47-4337-bdc3-b8f904ee1828"
   },
   "outputs": [],
   "source": [
    "plot_missing('sensor_17', sensor_data)"
   ]
  },
  {
   "attachments": {},
   "cell_type": "markdown",
   "metadata": {
    "id": "_44uYsWMfbI3"
   },
   "source": [
    "#### Sensor_18"
   ]
  },
  {
   "cell_type": "code",
   "execution_count": null,
   "metadata": {
    "colab": {
     "base_uri": "https://localhost:8080/",
     "height": 295
    },
    "id": "mTxLTfhAfbI3",
    "outputId": "e6b80fba-6f19-4300-d1b3-ae43f1fe6f11"
   },
   "outputs": [],
   "source": [
    "plot_missing('sensor_18', sensor_data)"
   ]
  },
  {
   "attachments": {},
   "cell_type": "markdown",
   "metadata": {
    "id": "VVgLYq4bfbI4"
   },
   "source": [
    "#### Sensor_22"
   ]
  },
  {
   "cell_type": "code",
   "execution_count": null,
   "metadata": {
    "colab": {
     "base_uri": "https://localhost:8080/",
     "height": 295
    },
    "id": "Pfb3BWM5fbI4",
    "outputId": "fdb13664-8e83-4e57-e025-a0951635ca1c"
   },
   "outputs": [],
   "source": [
    "plot_missing('sensor_22', sensor_data)"
   ]
  },
  {
   "attachments": {},
   "cell_type": "markdown",
   "metadata": {
    "id": "fgKmkKvUfbI4"
   },
   "source": [
    "#### Sensor_25"
   ]
  },
  {
   "cell_type": "code",
   "execution_count": null,
   "metadata": {
    "colab": {
     "base_uri": "https://localhost:8080/",
     "height": 295
    },
    "id": "B9e5H641fbI4",
    "outputId": "16a15187-3132-4001-fd89-253311dad6a2"
   },
   "outputs": [],
   "source": [
    "plot_missing('sensor_25', sensor_data)"
   ]
  },
  {
   "attachments": {},
   "cell_type": "markdown",
   "metadata": {
    "id": "8XPNQKStfbI4"
   },
   "source": [
    "#### Sensor_16"
   ]
  },
  {
   "cell_type": "code",
   "execution_count": null,
   "metadata": {
    "colab": {
     "base_uri": "https://localhost:8080/",
     "height": 295
    },
    "id": "uWubKqgufbI4",
    "outputId": "44da4280-7c45-400d-b772-eeb9948abed9"
   },
   "outputs": [],
   "source": [
    "plot_missing('sensor_16', sensor_data)"
   ]
  },
  {
   "attachments": {},
   "cell_type": "markdown",
   "metadata": {
    "id": "Wifbn2LHfbI5"
   },
   "source": [
    "#### Sensor_38"
   ]
  },
  {
   "cell_type": "code",
   "execution_count": null,
   "metadata": {
    "colab": {
     "base_uri": "https://localhost:8080/",
     "height": 295
    },
    "id": "YKFW33rPfbI5",
    "outputId": "1566bfad-1e8e-400f-8a39-b911a294df26"
   },
   "outputs": [],
   "source": [
    "plot_missing('sensor_38', sensor_data)"
   ]
  },
  {
   "attachments": {},
   "cell_type": "markdown",
   "metadata": {
    "id": "G4j_2rlkfbI5"
   },
   "source": [
    "#### Sensor_39"
   ]
  },
  {
   "cell_type": "code",
   "execution_count": null,
   "metadata": {
    "colab": {
     "base_uri": "https://localhost:8080/",
     "height": 295
    },
    "id": "TST1nkK8fbI5",
    "outputId": "45c974e1-0906-4116-eb02-3a8c8d3e292a"
   },
   "outputs": [],
   "source": [
    "plot_missing('sensor_39', sensor_data)"
   ]
  },
  {
   "attachments": {},
   "cell_type": "markdown",
   "metadata": {
    "id": "gGpC82S7fbI5"
   },
   "source": [
    "#### Sensor_40"
   ]
  },
  {
   "cell_type": "code",
   "execution_count": null,
   "metadata": {
    "colab": {
     "base_uri": "https://localhost:8080/",
     "height": 295
    },
    "id": "EEazvjyefbI5",
    "outputId": "9e0ac086-b315-48fc-a642-e1343d330f43"
   },
   "outputs": [],
   "source": [
    "plot_missing('sensor_40', sensor_data)"
   ]
  },
  {
   "attachments": {},
   "cell_type": "markdown",
   "metadata": {
    "id": "mjGaoGTrfbI6"
   },
   "source": [
    "#### Sensor_41"
   ]
  },
  {
   "cell_type": "code",
   "execution_count": null,
   "metadata": {
    "colab": {
     "base_uri": "https://localhost:8080/",
     "height": 295
    },
    "id": "iAe4d_zafbI6",
    "outputId": "e21d46c3-0ba7-4584-8ddd-4e366902bb6a"
   },
   "outputs": [],
   "source": [
    "plot_missing('sensor_41', sensor_data)"
   ]
  },
  {
   "attachments": {},
   "cell_type": "markdown",
   "metadata": {
    "id": "kzx17SdPfbI6"
   },
   "source": [
    "#### Sensor_42"
   ]
  },
  {
   "cell_type": "code",
   "execution_count": null,
   "metadata": {
    "colab": {
     "base_uri": "https://localhost:8080/",
     "height": 295
    },
    "id": "Zj6tIR6SfbI6",
    "outputId": "b2e28320-e884-49ec-f37e-611ef99c8e03"
   },
   "outputs": [],
   "source": [
    "plot_missing('sensor_42', sensor_data)"
   ]
  },
  {
   "attachments": {},
   "cell_type": "markdown",
   "metadata": {
    "id": "Z36iLCJ5fbI6"
   },
   "source": [
    "#### Sensor_43"
   ]
  },
  {
   "cell_type": "code",
   "execution_count": null,
   "metadata": {
    "colab": {
     "base_uri": "https://localhost:8080/",
     "height": 295
    },
    "id": "5aSDGbVDfbI6",
    "outputId": "0aa75230-f66a-42df-c8cd-34592a703d35"
   },
   "outputs": [],
   "source": [
    "plot_missing('sensor_43', sensor_data)"
   ]
  },
  {
   "attachments": {},
   "cell_type": "markdown",
   "metadata": {
    "id": "5g4qhy0kfbI6"
   },
   "source": [
    "#### Sensor_44"
   ]
  },
  {
   "cell_type": "code",
   "execution_count": null,
   "metadata": {
    "colab": {
     "base_uri": "https://localhost:8080/",
     "height": 295
    },
    "id": "Bdi7sVj0fbI6",
    "outputId": "74497708-22b6-4d39-872b-75e768ee2ce1"
   },
   "outputs": [],
   "source": [
    "plot_missing('sensor_44', sensor_data)"
   ]
  },
  {
   "attachments": {},
   "cell_type": "markdown",
   "metadata": {
    "id": "0HKGgp1OfbI7"
   },
   "source": [
    "#### Sensor_45"
   ]
  },
  {
   "cell_type": "code",
   "execution_count": null,
   "metadata": {
    "colab": {
     "base_uri": "https://localhost:8080/",
     "height": 295
    },
    "id": "IyRG31IyfbI7",
    "outputId": "20ade632-e7e9-4100-aa62-e4a2d86bfdc1"
   },
   "outputs": [],
   "source": [
    "plot_missing('sensor_45', sensor_data)"
   ]
  },
  {
   "attachments": {},
   "cell_type": "markdown",
   "metadata": {
    "id": "EdaBGjQ4fbI7"
   },
   "source": [
    "#### Sensor_46"
   ]
  },
  {
   "cell_type": "code",
   "execution_count": null,
   "metadata": {
    "colab": {
     "base_uri": "https://localhost:8080/",
     "height": 295
    },
    "id": "Gb0SpRPHfbI7",
    "outputId": "bb6b3a17-82eb-4c06-e80c-7c34ac137b75"
   },
   "outputs": [],
   "source": [
    "plot_missing('sensor_46', sensor_data)"
   ]
  },
  {
   "attachments": {},
   "cell_type": "markdown",
   "metadata": {
    "id": "bVmsaRnvfbI7"
   },
   "source": [
    "#### Sensor_47"
   ]
  },
  {
   "cell_type": "code",
   "execution_count": 40,
   "metadata": {
    "colab": {
     "base_uri": "https://localhost:8080/",
     "height": 295
    },
    "id": "Ea2KdrP6fbI7",
    "outputId": "b7b0c545-9c03-4877-f053-bc4c5ab7f164"
   },
   "outputs": [
    {
     "data": {
      "image/png": "[encoded data removed]",
      "text/plain": [
       "<Figure size 1000x400 with 1 Axes>"
      ]
     },
     "metadata": {},
     "output_type": "display_data"
    }
   ],
   "source": [
    "plot_missing('sensor_47', sensor_data)"
   ]
  },
  {
   "attachments": {},
   "cell_type": "markdown",
   "metadata": {
    "id": "fMrlY9J9fbI8"
   },
   "source": [
    "#### Sensor_48"
   ]
  },
  {
   "cell_type": "code",
   "execution_count": 41,
   "metadata": {
    "colab": {
     "base_uri": "https://localhost:8080/",
     "height": 295
    },
    "id": "KeKKWm02fbI8",
    "outputId": "6bdbc240-a4b2-45ee-905e-220e47bc5f3c"
   },
   "outputs": [
    {
     "data": {
      "image/png": "[encoded data removed]",
      "text/plain": [
       "<Figure size 1000x400 with 1 Axes>"
      ]
     },
     "metadata": {},
     "output_type": "display_data"
    }
   ],
   "source": [
    "plot_missing('sensor_48', sensor_data)"
   ]
  },
  {
   "attachments": {},
   "cell_type": "markdown",
   "metadata": {
    "id": "riMnQxhtfbI8"
   },
   "source": [
    "#### Sensor_49"
   ]
  },
  {
   "cell_type": "code",
   "execution_count": null,
   "metadata": {
    "colab": {
     "base_uri": "https://localhost:8080/",
     "height": 295
    },
    "id": "5tgSko8OfbI8",
    "outputId": "ce2fd814-abf9-4594-af9f-d7b14fc95dea"
   },
   "outputs": [],
   "source": [
    "plot_missing('sensor_49', sensor_data)"
   ]
  },
  {
   "attachments": {},
   "cell_type": "markdown",
   "metadata": {
    "id": "Ey9JWcXVfbI8"
   },
   "source": [
    "#### Sensor_14"
   ]
  },
  {
   "cell_type": "code",
   "execution_count": null,
   "metadata": {
    "colab": {
     "base_uri": "https://localhost:8080/",
     "height": 295
    },
    "id": "eyepBBLofbI8",
    "outputId": "0698953f-e2f8-4942-befd-00751ef56427"
   },
   "outputs": [],
   "source": [
    "plot_missing('sensor_14', sensor_data)"
   ]
  },
  {
   "attachments": {},
   "cell_type": "markdown",
   "metadata": {
    "id": "TEgRzgLPfbI8"
   },
   "source": [
    "#### Sensor_26"
   ]
  },
  {
   "cell_type": "code",
   "execution_count": null,
   "metadata": {
    "colab": {
     "base_uri": "https://localhost:8080/",
     "height": 295
    },
    "id": "SDv3mRTlfbI8",
    "outputId": "9a303e8f-7e6a-4319-e7e6-c05c3494b136"
   },
   "outputs": [],
   "source": [
    "plot_missing('sensor_26', sensor_data)"
   ]
  },
  {
   "attachments": {},
   "cell_type": "markdown",
   "metadata": {
    "id": "BH4SsLynfbI9"
   },
   "source": [
    "#### Sensor_02"
   ]
  },
  {
   "cell_type": "code",
   "execution_count": null,
   "metadata": {
    "colab": {
     "base_uri": "https://localhost:8080/",
     "height": 295
    },
    "id": "XcB8bb7qfbI9",
    "outputId": "858c0f43-14f7-4076-a5db-3f7b966d43d1"
   },
   "outputs": [],
   "source": [
    "plot_missing('sensor_02', sensor_data)"
   ]
  },
  {
   "attachments": {},
   "cell_type": "markdown",
   "metadata": {
    "id": "_EAxebLPfbI9"
   },
   "source": [
    "#### Sensor_03"
   ]
  },
  {
   "cell_type": "code",
   "execution_count": null,
   "metadata": {
    "colab": {
     "base_uri": "https://localhost:8080/",
     "height": 295
    },
    "id": "A7782X62fbI9",
    "outputId": "f5ec6d71-2def-4fd4-f08f-a90f43e0bc7b"
   },
   "outputs": [],
   "source": [
    "plot_missing('sensor_03', sensor_data)"
   ]
  },
  {
   "attachments": {},
   "cell_type": "markdown",
   "metadata": {
    "id": "_nPOxzUwfbI9"
   },
   "source": [
    "#### Sensor_04"
   ]
  },
  {
   "cell_type": "code",
   "execution_count": null,
   "metadata": {
    "colab": {
     "base_uri": "https://localhost:8080/",
     "height": 295
    },
    "id": "8oL76VcifbI9",
    "outputId": "28e8ea82-18fc-4c17-a6ca-47fccf4b5b19"
   },
   "outputs": [],
   "source": [
    "plot_missing('sensor_04', sensor_data)"
   ]
  },
  {
   "attachments": {},
   "cell_type": "markdown",
   "metadata": {
    "id": "sN7-lm2dfbI-"
   },
   "source": [
    "#### Sensor_05"
   ]
  },
  {
   "cell_type": "code",
   "execution_count": null,
   "metadata": {
    "colab": {
     "base_uri": "https://localhost:8080/",
     "height": 295
    },
    "id": "E-KqdMkwfbI-",
    "outputId": "993ce7b7-7c2d-4208-e5e5-30ffda2c9d50"
   },
   "outputs": [],
   "source": [
    "plot_missing('sensor_05', sensor_data)"
   ]
  },
  {
   "attachments": {},
   "cell_type": "markdown",
   "metadata": {
    "id": "tZWpUr1yfbI-"
   },
   "source": [
    "#### Sensor_10"
   ]
  },
  {
   "cell_type": "code",
   "execution_count": null,
   "metadata": {
    "colab": {
     "base_uri": "https://localhost:8080/",
     "height": 295
    },
    "id": "ASU_cB4PfbI-",
    "outputId": "574e86f9-3365-48ba-ab3c-c261a447bc0d"
   },
   "outputs": [],
   "source": [
    "plot_missing('sensor_10', sensor_data)"
   ]
  },
  {
   "attachments": {},
   "cell_type": "markdown",
   "metadata": {
    "id": "HEi5FT5MfbI-"
   },
   "source": [
    "#### Sensor_11"
   ]
  },
  {
   "cell_type": "code",
   "execution_count": null,
   "metadata": {
    "colab": {
     "base_uri": "https://localhost:8080/",
     "height": 295
    },
    "id": "C2f__LbkfbI-",
    "outputId": "224554ca-4b60-4588-909c-a7253d33cbc0"
   },
   "outputs": [],
   "source": [
    "plot_missing('sensor_11', sensor_data)"
   ]
  },
  {
   "attachments": {},
   "cell_type": "markdown",
   "metadata": {
    "id": "uVi7FeOCfbI-"
   },
   "source": [
    "#### Sensor_12"
   ]
  },
  {
   "cell_type": "code",
   "execution_count": null,
   "metadata": {
    "colab": {
     "base_uri": "https://localhost:8080/",
     "height": 295
    },
    "id": "ajZSqyIffbI-",
    "outputId": "bf4e1365-1206-4012-d341-1a2cc46cf465"
   },
   "outputs": [],
   "source": [
    "plot_missing('sensor_12', sensor_data)"
   ]
  },
  {
   "attachments": {},
   "cell_type": "markdown",
   "metadata": {
    "id": "TD_e9fiafbI_"
   },
   "source": [
    "#### Sensor_13"
   ]
  },
  {
   "cell_type": "code",
   "execution_count": null,
   "metadata": {
    "colab": {
     "base_uri": "https://localhost:8080/",
     "height": 295
    },
    "id": "YUq-n7AFfbI_",
    "outputId": "bbcc87e0-c0f8-4aba-b2da-87b6fbe9f029"
   },
   "outputs": [],
   "source": [
    "plot_missing('sensor_13', sensor_data)"
   ]
  },
  {
   "attachments": {},
   "cell_type": "markdown",
   "metadata": {
    "id": "ErA1uHBDfbI_"
   },
   "source": [
    "#### Sensor_19"
   ]
  },
  {
   "cell_type": "code",
   "execution_count": null,
   "metadata": {
    "colab": {
     "base_uri": "https://localhost:8080/",
     "height": 295
    },
    "id": "fVEVG_J4fbI_",
    "outputId": "12fbb2c0-9672-4a5c-b42f-3bae39298e2f"
   },
   "outputs": [],
   "source": [
    "plot_missing('sensor_19', sensor_data)"
   ]
  },
  {
   "attachments": {},
   "cell_type": "markdown",
   "metadata": {
    "id": "PmAEm--dfbJA"
   },
   "source": [
    "#### Sensor_20"
   ]
  },
  {
   "cell_type": "code",
   "execution_count": null,
   "metadata": {
    "colab": {
     "base_uri": "https://localhost:8080/",
     "height": 295
    },
    "id": "GWV7O2iffbJA",
    "outputId": "ab64ce0a-fb56-4563-f56a-18d3eb793d88"
   },
   "outputs": [],
   "source": [
    "plot_missing('sensor_20', sensor_data)"
   ]
  },
  {
   "attachments": {},
   "cell_type": "markdown",
   "metadata": {
    "id": "MPOfTVZNfbJA"
   },
   "source": [
    "#### Sensor_21"
   ]
  },
  {
   "cell_type": "code",
   "execution_count": null,
   "metadata": {
    "colab": {
     "base_uri": "https://localhost:8080/",
     "height": 295
    },
    "id": "H-_kiMumfbJA",
    "outputId": "b920cfb0-9acc-4dcc-fbf5-dedc8ac51a4c"
   },
   "outputs": [],
   "source": [
    "plot_missing('sensor_21', sensor_data)"
   ]
  },
  {
   "attachments": {},
   "cell_type": "markdown",
   "metadata": {
    "id": "ktvNRDFZfbJB"
   },
   "source": [
    "#### Sensor_23"
   ]
  },
  {
   "cell_type": "code",
   "execution_count": null,
   "metadata": {
    "colab": {
     "base_uri": "https://localhost:8080/",
     "height": 295
    },
    "id": "Eo9MDwL-fbJB",
    "outputId": "e3670b36-1983-4b49-9c89-3761ecdb4c9e"
   },
   "outputs": [],
   "source": [
    "plot_missing('sensor_23', sensor_data)"
   ]
  },
  {
   "attachments": {},
   "cell_type": "markdown",
   "metadata": {
    "id": "33CxI-sKfbJB"
   },
   "source": [
    "#### Sensor_24"
   ]
  },
  {
   "cell_type": "code",
   "execution_count": null,
   "metadata": {
    "colab": {
     "base_uri": "https://localhost:8080/",
     "height": 295
    },
    "id": "8MZW6DhafbJB",
    "outputId": "915f4719-2644-4856-c660-66181e01d866"
   },
   "outputs": [],
   "source": [
    "plot_missing('sensor_24', sensor_data)"
   ]
  },
  {
   "attachments": {},
   "cell_type": "markdown",
   "metadata": {
    "id": "Z0vh_SG-fbJB"
   },
   "source": [
    "#### Sensor_27"
   ]
  },
  {
   "cell_type": "code",
   "execution_count": null,
   "metadata": {
    "colab": {
     "base_uri": "https://localhost:8080/",
     "height": 295
    },
    "id": "_2VshMPNfbJB",
    "outputId": "590785bd-53a5-4b70-db20-234f7627e674"
   },
   "outputs": [],
   "source": [
    "plot_missing('sensor_27', sensor_data)"
   ]
  },
  {
   "attachments": {},
   "cell_type": "markdown",
   "metadata": {
    "id": "2Zaqal4lfbJC"
   },
   "source": [
    "#### Sensor_28"
   ]
  },
  {
   "cell_type": "code",
   "execution_count": null,
   "metadata": {
    "colab": {
     "base_uri": "https://localhost:8080/",
     "height": 295
    },
    "id": "oF-iOIbcfbJC",
    "outputId": "207ae0bc-46e6-4211-f64f-b501d482424d"
   },
   "outputs": [],
   "source": [
    "plot_missing('sensor_28', sensor_data)"
   ]
  },
  {
   "attachments": {},
   "cell_type": "markdown",
   "metadata": {
    "id": "uDcPuqkTfbJC"
   },
   "source": [
    "#### Sensor_31"
   ]
  },
  {
   "cell_type": "code",
   "execution_count": null,
   "metadata": {
    "colab": {
     "base_uri": "https://localhost:8080/",
     "height": 295
    },
    "id": "dIWMFln-fbJC",
    "outputId": "b79811cd-ad4a-47f7-d5cc-dc81cf1b1b49"
   },
   "outputs": [],
   "source": [
    "plot_missing('sensor_31', sensor_data)"
   ]
  },
  {
   "attachments": {},
   "cell_type": "markdown",
   "metadata": {
    "id": "l3nuYOFkfbJC"
   },
   "source": [
    "#### Sensor_33"
   ]
  },
  {
   "cell_type": "code",
   "execution_count": null,
   "metadata": {
    "colab": {
     "base_uri": "https://localhost:8080/",
     "height": 295
    },
    "id": "zMnU_W7RfbJC",
    "outputId": "1d0f5edf-78f3-4c41-91a4-b8aa1158f08e"
   },
   "outputs": [],
   "source": [
    "plot_missing('sensor_33', sensor_data)"
   ]
  },
  {
   "attachments": {},
   "cell_type": "markdown",
   "metadata": {
    "id": "9i6YirsYfbJC"
   },
   "source": [
    "#### Sensor_34"
   ]
  },
  {
   "cell_type": "code",
   "execution_count": null,
   "metadata": {
    "colab": {
     "base_uri": "https://localhost:8080/",
     "height": 295
    },
    "id": "71mdihHzfbJC",
    "outputId": "b263ce3d-8e82-4f1d-fa12-1727eec8497d"
   },
   "outputs": [],
   "source": [
    "plot_missing('sensor_34', sensor_data)"
   ]
  },
  {
   "attachments": {},
   "cell_type": "markdown",
   "metadata": {
    "id": "T8zW1aENfbJD"
   },
   "source": [
    "#### Sensor_35"
   ]
  },
  {
   "cell_type": "code",
   "execution_count": null,
   "metadata": {
    "colab": {
     "base_uri": "https://localhost:8080/",
     "height": 295
    },
    "id": "8sLAkvB5fbJD",
    "outputId": "29ef0e33-8034-45ee-a39c-95b7f78ef3ad"
   },
   "outputs": [],
   "source": [
    "plot_missing('sensor_35', sensor_data)"
   ]
  },
  {
   "attachments": {},
   "cell_type": "markdown",
   "metadata": {
    "id": "zcO4GVQLfbJD"
   },
   "source": [
    "#### Sensor_36"
   ]
  },
  {
   "cell_type": "code",
   "execution_count": null,
   "metadata": {
    "colab": {
     "base_uri": "https://localhost:8080/",
     "height": 295
    },
    "id": "FUc4jdbKfbJE",
    "outputId": "8d2d9c1f-d380-4038-92c6-bd2f427d3db9"
   },
   "outputs": [],
   "source": [
    "plot_missing('sensor_36', sensor_data)"
   ]
  },
  {
   "attachments": {},
   "cell_type": "markdown",
   "metadata": {
    "id": "F_YQ0Y1cfbJE"
   },
   "source": [
    "#### Sensor_37"
   ]
  },
  {
   "cell_type": "code",
   "execution_count": null,
   "metadata": {
    "colab": {
     "base_uri": "https://localhost:8080/",
     "height": 295
    },
    "id": "5Bhh5xNWfbJE",
    "outputId": "945f32f1-d5ef-4bb9-be29-c6e30b21c313"
   },
   "outputs": [],
   "source": [
    "plot_missing('sensor_37', sensor_data)"
   ]
  },
  {
   "attachments": {},
   "cell_type": "markdown",
   "metadata": {
    "id": "WtjYkt41fbJE"
   },
   "source": [
    "### Handling Missing Values:"
   ]
  },
  {
   "attachments": {},
   "cell_type": "markdown",
   "metadata": {
    "id": "tEEtTBV2fbJE"
   },
   "source": [
    "* sensor_15 is dropped as all of its values are missing\n",
    "* For all other sensors, most of the values are missing in Broken state so filled with out of distribution value, -1"
   ]
  },
  {
   "cell_type": "code",
   "execution_count": 43,
   "metadata": {
    "id": "nXTkqMERfbJF"
   },
   "outputs": [],
   "source": [
    "# dropping columns machine_status, new_machine_status and sensor_15\n",
    "sensor_data = sensor_data.drop(columns=['machine_status', \n",
    "                                        'new_machine_status', \n",
    "                                        'sensor_15'], axis=1)\n",
    "# dropping column unnamed\n",
    "sensor_data = sensor_data.drop(sensor_data.columns[0], axis=1)\n",
    "\n",
    "# filling missing values with -1\n",
    "for sensor in list(sensor_data.columns)[1:-1]:\n",
    "    sensor_data[sensor].fillna(-1, inplace=True)"
   ]
  },
  {
   "cell_type": "code",
   "execution_count": 49,
   "metadata": {
    "colab": {
     "base_uri": "https://localhost:8080/",
     "height": 313
    },
    "id": "Wri3_1WofbJF",
    "outputId": "efec7e4b-6e28-46cd-851b-af76e19bf219"
   },
   "outputs": [
    {
     "data": {
      "text/html": [
       "<div>\n",
       "<style scoped>\n",
       "    .dataframe tbody tr th:only-of-type {\n",
       "        vertical-align: middle;\n",
       "    }\n",
       "\n",
       "    .dataframe tbody tr th {\n",
       "        vertical-align: top;\n",
       "    }\n",
       "\n",
       "    .dataframe thead th {\n",
       "        text-align: right;\n",
       "    }\n",
       "</style>\n",
       "<table border=\"1\" class=\"dataframe\">\n",
       "  <thead>\n",
       "    <tr style=\"text-align: right;\">\n",
       "      <th></th>\n",
       "      <th>timestamp</th>\n",
       "      <th>sensor_00</th>\n",
       "      <th>sensor_01</th>\n",
       "      <th>sensor_02</th>\n",
       "      <th>sensor_03</th>\n",
       "      <th>sensor_04</th>\n",
       "      <th>sensor_05</th>\n",
       "      <th>sensor_06</th>\n",
       "      <th>sensor_07</th>\n",
       "      <th>sensor_08</th>\n",
       "      <th>...</th>\n",
       "      <th>sensor_43</th>\n",
       "      <th>sensor_44</th>\n",
       "      <th>sensor_45</th>\n",
       "      <th>sensor_46</th>\n",
       "      <th>sensor_47</th>\n",
       "      <th>sensor_48</th>\n",
       "      <th>sensor_49</th>\n",
       "      <th>sensor_50</th>\n",
       "      <th>sensor_51</th>\n",
       "      <th>label</th>\n",
       "    </tr>\n",
       "  </thead>\n",
       "  <tbody>\n",
       "    <tr>\n",
       "      <th>0</th>\n",
       "      <td>2018-04-01 00:00:00</td>\n",
       "      <td>2.465394</td>\n",
       "      <td>47.09201</td>\n",
       "      <td>53.2118</td>\n",
       "      <td>46.310760</td>\n",
       "      <td>634.3750</td>\n",
       "      <td>76.45975</td>\n",
       "      <td>13.41146</td>\n",
       "      <td>16.13136</td>\n",
       "      <td>15.56713</td>\n",
       "      <td>...</td>\n",
       "      <td>41.92708</td>\n",
       "      <td>39.641200</td>\n",
       "      <td>65.68287</td>\n",
       "      <td>50.92593</td>\n",
       "      <td>38.194440</td>\n",
       "      <td>157.9861</td>\n",
       "      <td>67.70834</td>\n",
       "      <td>243.0556</td>\n",
       "      <td>201.3889</td>\n",
       "      <td>0</td>\n",
       "    </tr>\n",
       "    <tr>\n",
       "      <th>1</th>\n",
       "      <td>2018-04-01 00:01:00</td>\n",
       "      <td>2.465394</td>\n",
       "      <td>47.09201</td>\n",
       "      <td>53.2118</td>\n",
       "      <td>46.310760</td>\n",
       "      <td>634.3750</td>\n",
       "      <td>76.45975</td>\n",
       "      <td>13.41146</td>\n",
       "      <td>16.13136</td>\n",
       "      <td>15.56713</td>\n",
       "      <td>...</td>\n",
       "      <td>41.92708</td>\n",
       "      <td>39.641200</td>\n",
       "      <td>65.68287</td>\n",
       "      <td>50.92593</td>\n",
       "      <td>38.194440</td>\n",
       "      <td>157.9861</td>\n",
       "      <td>67.70834</td>\n",
       "      <td>243.0556</td>\n",
       "      <td>201.3889</td>\n",
       "      <td>0</td>\n",
       "    </tr>\n",
       "    <tr>\n",
       "      <th>2</th>\n",
       "      <td>2018-04-01 00:02:00</td>\n",
       "      <td>2.444734</td>\n",
       "      <td>47.35243</td>\n",
       "      <td>53.2118</td>\n",
       "      <td>46.397570</td>\n",
       "      <td>638.8889</td>\n",
       "      <td>73.54598</td>\n",
       "      <td>13.32465</td>\n",
       "      <td>16.03733</td>\n",
       "      <td>15.61777</td>\n",
       "      <td>...</td>\n",
       "      <td>41.66666</td>\n",
       "      <td>39.351852</td>\n",
       "      <td>65.39352</td>\n",
       "      <td>51.21528</td>\n",
       "      <td>38.194443</td>\n",
       "      <td>155.9606</td>\n",
       "      <td>67.12963</td>\n",
       "      <td>241.3194</td>\n",
       "      <td>203.7037</td>\n",
       "      <td>0</td>\n",
       "    </tr>\n",
       "    <tr>\n",
       "      <th>3</th>\n",
       "      <td>2018-04-01 00:03:00</td>\n",
       "      <td>2.460474</td>\n",
       "      <td>47.09201</td>\n",
       "      <td>53.1684</td>\n",
       "      <td>46.397568</td>\n",
       "      <td>628.1250</td>\n",
       "      <td>76.98898</td>\n",
       "      <td>13.31742</td>\n",
       "      <td>16.24711</td>\n",
       "      <td>15.69734</td>\n",
       "      <td>...</td>\n",
       "      <td>40.88541</td>\n",
       "      <td>39.062500</td>\n",
       "      <td>64.81481</td>\n",
       "      <td>51.21528</td>\n",
       "      <td>38.194440</td>\n",
       "      <td>155.9606</td>\n",
       "      <td>66.84028</td>\n",
       "      <td>240.4514</td>\n",
       "      <td>203.1250</td>\n",
       "      <td>0</td>\n",
       "    </tr>\n",
       "    <tr>\n",
       "      <th>4</th>\n",
       "      <td>2018-04-01 00:04:00</td>\n",
       "      <td>2.445718</td>\n",
       "      <td>47.13541</td>\n",
       "      <td>53.2118</td>\n",
       "      <td>46.397568</td>\n",
       "      <td>636.4583</td>\n",
       "      <td>76.58897</td>\n",
       "      <td>13.35359</td>\n",
       "      <td>16.21094</td>\n",
       "      <td>15.69734</td>\n",
       "      <td>...</td>\n",
       "      <td>41.40625</td>\n",
       "      <td>38.773150</td>\n",
       "      <td>65.10416</td>\n",
       "      <td>51.79398</td>\n",
       "      <td>38.773150</td>\n",
       "      <td>158.2755</td>\n",
       "      <td>66.55093</td>\n",
       "      <td>242.1875</td>\n",
       "      <td>201.3889</td>\n",
       "      <td>0</td>\n",
       "    </tr>\n",
       "    <tr>\n",
       "      <th>5</th>\n",
       "      <td>2018-04-01 00:05:00</td>\n",
       "      <td>2.453588</td>\n",
       "      <td>47.09201</td>\n",
       "      <td>53.1684</td>\n",
       "      <td>46.397568</td>\n",
       "      <td>637.6157</td>\n",
       "      <td>78.18568</td>\n",
       "      <td>13.41146</td>\n",
       "      <td>16.16753</td>\n",
       "      <td>15.89265</td>\n",
       "      <td>...</td>\n",
       "      <td>42.70833</td>\n",
       "      <td>38.773150</td>\n",
       "      <td>63.65741</td>\n",
       "      <td>51.79398</td>\n",
       "      <td>38.773150</td>\n",
       "      <td>164.6412</td>\n",
       "      <td>66.55093</td>\n",
       "      <td>241.6088</td>\n",
       "      <td>201.6782</td>\n",
       "      <td>0</td>\n",
       "    </tr>\n",
       "    <tr>\n",
       "      <th>6</th>\n",
       "      <td>2018-04-01 00:06:00</td>\n",
       "      <td>2.455556</td>\n",
       "      <td>47.04861</td>\n",
       "      <td>53.1684</td>\n",
       "      <td>46.397568</td>\n",
       "      <td>633.3333</td>\n",
       "      <td>75.81614</td>\n",
       "      <td>13.43316</td>\n",
       "      <td>16.13136</td>\n",
       "      <td>15.65393</td>\n",
       "      <td>...</td>\n",
       "      <td>43.22916</td>\n",
       "      <td>38.194440</td>\n",
       "      <td>61.92130</td>\n",
       "      <td>51.79398</td>\n",
       "      <td>39.062500</td>\n",
       "      <td>171.8750</td>\n",
       "      <td>67.70834</td>\n",
       "      <td>240.1620</td>\n",
       "      <td>200.2315</td>\n",
       "      <td>0</td>\n",
       "    </tr>\n",
       "    <tr>\n",
       "      <th>7</th>\n",
       "      <td>2018-04-01 00:07:00</td>\n",
       "      <td>2.449653</td>\n",
       "      <td>47.13541</td>\n",
       "      <td>53.1684</td>\n",
       "      <td>46.397568</td>\n",
       "      <td>630.6713</td>\n",
       "      <td>75.77331</td>\n",
       "      <td>13.25231</td>\n",
       "      <td>16.12413</td>\n",
       "      <td>16.19647</td>\n",
       "      <td>...</td>\n",
       "      <td>42.96875</td>\n",
       "      <td>38.194443</td>\n",
       "      <td>59.60648</td>\n",
       "      <td>50.92593</td>\n",
       "      <td>39.351850</td>\n",
       "      <td>178.5301</td>\n",
       "      <td>68.57639</td>\n",
       "      <td>241.3194</td>\n",
       "      <td>201.0995</td>\n",
       "      <td>0</td>\n",
       "    </tr>\n",
       "    <tr>\n",
       "      <th>8</th>\n",
       "      <td>2018-04-01 00:08:00</td>\n",
       "      <td>2.463426</td>\n",
       "      <td>47.09201</td>\n",
       "      <td>53.1684</td>\n",
       "      <td>46.397568</td>\n",
       "      <td>631.9444</td>\n",
       "      <td>74.58916</td>\n",
       "      <td>13.28848</td>\n",
       "      <td>16.13136</td>\n",
       "      <td>15.47309</td>\n",
       "      <td>...</td>\n",
       "      <td>42.18750</td>\n",
       "      <td>38.194440</td>\n",
       "      <td>57.87037</td>\n",
       "      <td>50.63657</td>\n",
       "      <td>39.351850</td>\n",
       "      <td>182.0023</td>\n",
       "      <td>69.44444</td>\n",
       "      <td>243.0556</td>\n",
       "      <td>201.6782</td>\n",
       "      <td>0</td>\n",
       "    </tr>\n",
       "    <tr>\n",
       "      <th>9</th>\n",
       "      <td>2018-04-01 00:09:00</td>\n",
       "      <td>2.445718</td>\n",
       "      <td>47.17882</td>\n",
       "      <td>53.1684</td>\n",
       "      <td>46.397568</td>\n",
       "      <td>641.7823</td>\n",
       "      <td>74.57428</td>\n",
       "      <td>13.38252</td>\n",
       "      <td>16.24711</td>\n",
       "      <td>15.61777</td>\n",
       "      <td>...</td>\n",
       "      <td>41.66666</td>\n",
       "      <td>39.062500</td>\n",
       "      <td>56.42361</td>\n",
       "      <td>50.63657</td>\n",
       "      <td>39.062500</td>\n",
       "      <td>186.6319</td>\n",
       "      <td>69.73380</td>\n",
       "      <td>246.5278</td>\n",
       "      <td>200.8102</td>\n",
       "      <td>0</td>\n",
       "    </tr>\n",
       "    <tr>\n",
       "      <th>10</th>\n",
       "      <td>2018-04-01 00:10:00</td>\n",
       "      <td>2.464410</td>\n",
       "      <td>47.48264</td>\n",
       "      <td>53.1250</td>\n",
       "      <td>46.397568</td>\n",
       "      <td>637.7314</td>\n",
       "      <td>76.05148</td>\n",
       "      <td>13.41146</td>\n",
       "      <td>16.16753</td>\n",
       "      <td>15.65393</td>\n",
       "      <td>...</td>\n",
       "      <td>41.40625</td>\n",
       "      <td>39.351850</td>\n",
       "      <td>54.97685</td>\n",
       "      <td>50.92593</td>\n",
       "      <td>39.351850</td>\n",
       "      <td>190.9722</td>\n",
       "      <td>71.18056</td>\n",
       "      <td>250.8681</td>\n",
       "      <td>199.9421</td>\n",
       "      <td>0</td>\n",
       "    </tr>\n",
       "    <tr>\n",
       "      <th>11</th>\n",
       "      <td>2018-04-01 00:11:00</td>\n",
       "      <td>2.444734</td>\n",
       "      <td>47.91666</td>\n",
       "      <td>53.1684</td>\n",
       "      <td>46.397568</td>\n",
       "      <td>635.6482</td>\n",
       "      <td>74.58654</td>\n",
       "      <td>13.41146</td>\n",
       "      <td>16.16753</td>\n",
       "      <td>15.84925</td>\n",
       "      <td>...</td>\n",
       "      <td>41.66666</td>\n",
       "      <td>39.351852</td>\n",
       "      <td>53.81944</td>\n",
       "      <td>51.21528</td>\n",
       "      <td>39.062500</td>\n",
       "      <td>193.5764</td>\n",
       "      <td>72.33796</td>\n",
       "      <td>253.1829</td>\n",
       "      <td>200.2315</td>\n",
       "      <td>0</td>\n",
       "    </tr>\n",
       "  </tbody>\n",
       "</table>\n",
       "<p>12 rows × 53 columns</p>\n",
       "</div>"
      ],
      "text/plain": [
       "              timestamp  sensor_00  sensor_01  sensor_02  sensor_03  \\\n",
       "0   2018-04-01 00:00:00   2.465394   47.09201    53.2118  46.310760   \n",
       "1   2018-04-01 00:01:00   2.465394   47.09201    53.2118  46.310760   \n",
       "2   2018-04-01 00:02:00   2.444734   47.35243    53.2118  46.397570   \n",
       "3   2018-04-01 00:03:00   2.460474   47.09201    53.1684  46.397568   \n",
       "4   2018-04-01 00:04:00   2.445718   47.13541    53.2118  46.397568   \n",
       "5   2018-04-01 00:05:00   2.453588   47.09201    53.1684  46.397568   \n",
       "6   2018-04-01 00:06:00   2.455556   47.04861    53.1684  46.397568   \n",
       "7   2018-04-01 00:07:00   2.449653   47.13541    53.1684  46.397568   \n",
       "8   2018-04-01 00:08:00   2.463426   47.09201    53.1684  46.397568   \n",
       "9   2018-04-01 00:09:00   2.445718   47.17882    53.1684  46.397568   \n",
       "10  2018-04-01 00:10:00   2.464410   47.48264    53.1250  46.397568   \n",
       "11  2018-04-01 00:11:00   2.444734   47.91666    53.1684  46.397568   \n",
       "\n",
       "    sensor_04  sensor_05  sensor_06  sensor_07  sensor_08  ...  sensor_43  \\\n",
       "0    634.3750   76.45975   13.41146   16.13136   15.56713  ...   41.92708   \n",
       "1    634.3750   76.45975   13.41146   16.13136   15.56713  ...   41.92708   \n",
       "2    638.8889   73.54598   13.32465   16.03733   15.61777  ...   41.66666   \n",
       "3    628.1250   76.98898   13.31742   16.24711   15.69734  ...   40.88541   \n",
       "4    636.4583   76.58897   13.35359   16.21094   15.69734  ...   41.40625   \n",
       "5    637.6157   78.18568   13.41146   16.16753   15.89265  ...   42.70833   \n",
       "6    633.3333   75.81614   13.43316   16.13136   15.65393  ...   43.22916   \n",
       "7    630.6713   75.77331   13.25231   16.12413   16.19647  ...   42.96875   \n",
       "8    631.9444   74.58916   13.28848   16.13136   15.47309  ...   42.18750   \n",
       "9    641.7823   74.57428   13.38252   16.24711   15.61777  ...   41.66666   \n",
       "10   637.7314   76.05148   13.41146   16.16753   15.65393  ...   41.40625   \n",
       "11   635.6482   74.58654   13.41146   16.16753   15.84925  ...   41.66666   \n",
       "\n",
       "    sensor_44  sensor_45  sensor_46  sensor_47  sensor_48  sensor_49  \\\n",
       "0   39.641200   65.68287   50.92593  38.194440   157.9861   67.70834   \n",
       "1   39.641200   65.68287   50.92593  38.194440   157.9861   67.70834   \n",
       "2   39.351852   65.39352   51.21528  38.194443   155.9606   67.12963   \n",
       "3   39.062500   64.81481   51.21528  38.194440   155.9606   66.84028   \n",
       "4   38.773150   65.10416   51.79398  38.773150   158.2755   66.55093   \n",
       "5   38.773150   63.65741   51.79398  38.773150   164.6412   66.55093   \n",
       "6   38.194440   61.92130   51.79398  39.062500   171.8750   67.70834   \n",
       "7   38.194443   59.60648   50.92593  39.351850   178.5301   68.57639   \n",
       "8   38.194440   57.87037   50.63657  39.351850   182.0023   69.44444   \n",
       "9   39.062500   56.42361   50.63657  39.062500   186.6319   69.73380   \n",
       "10  39.351850   54.97685   50.92593  39.351850   190.9722   71.18056   \n",
       "11  39.351852   53.81944   51.21528  39.062500   193.5764   72.33796   \n",
       "\n",
       "    sensor_50  sensor_51  label  \n",
       "0    243.0556   201.3889      0  \n",
       "1    243.0556   201.3889      0  \n",
       "2    241.3194   203.7037      0  \n",
       "3    240.4514   203.1250      0  \n",
       "4    242.1875   201.3889      0  \n",
       "5    241.6088   201.6782      0  \n",
       "6    240.1620   200.2315      0  \n",
       "7    241.3194   201.0995      0  \n",
       "8    243.0556   201.6782      0  \n",
       "9    246.5278   200.8102      0  \n",
       "10   250.8681   199.9421      0  \n",
       "11   253.1829   200.2315      0  \n",
       "\n",
       "[12 rows x 53 columns]"
      ]
     },
     "execution_count": 49,
     "metadata": {},
     "output_type": "execute_result"
    }
   ],
   "source": [
    "sensor_data.head(12)"
   ]
  },
  {
   "cell_type": "code",
   "execution_count": null,
   "metadata": {},
   "outputs": [],
   "source": [
    "## INITIALISING -- MAKING DATA SET +10 MIN "
   ]
  },
  {
   "cell_type": "code",
   "execution_count": 50,
   "metadata": {
    "id": "ZQF16MinNyoi"
   },
   "outputs": [],
   "source": [
    "def shift_labels(sensor_list, df):\n",
    "    \"\"\"\n",
    "    Function to shift labels by 10 min\n",
    "    \"\"\"\n",
    "    new_features = {}\n",
    "\n",
    "    for sensor in sensor_list:\n",
    "        new_features[sensor] = df[sensor]\n",
    "\n",
    "    labels = [None] * df.shape[0]\n",
    "\n",
    "    for i in range(0, df.shape[0]-10):\n",
    "        labels[i] = sensor_data['label'][i+10]\n",
    "    \n",
    "    new_features['label'] = labels\n",
    "    new_df = pd.DataFrame(new_features)\n",
    "    # dropping last rows with null value\n",
    "    new_df.drop(new_df.tail(10).index,inplace=True)\n",
    "    return new_df"
   ]
  },
  {
   "cell_type": "code",
   "execution_count": 51,
   "metadata": {
    "id": "a0cGxSFYNyoj",
    "outputId": "db29010c-4a1e-410f-ee41-23ffae6fa679"
   },
   "outputs": [
    {
     "data": {
      "text/html": [
       "<div>\n",
       "<style scoped>\n",
       "    .dataframe tbody tr th:only-of-type {\n",
       "        vertical-align: middle;\n",
       "    }\n",
       "\n",
       "    .dataframe tbody tr th {\n",
       "        vertical-align: top;\n",
       "    }\n",
       "\n",
       "    .dataframe thead th {\n",
       "        text-align: right;\n",
       "    }\n",
       "</style>\n",
       "<table border=\"1\" class=\"dataframe\">\n",
       "  <thead>\n",
       "    <tr style=\"text-align: right;\">\n",
       "      <th></th>\n",
       "      <th>sensor_00</th>\n",
       "      <th>sensor_01</th>\n",
       "      <th>sensor_02</th>\n",
       "      <th>sensor_03</th>\n",
       "      <th>sensor_04</th>\n",
       "      <th>sensor_05</th>\n",
       "      <th>sensor_06</th>\n",
       "      <th>sensor_07</th>\n",
       "      <th>sensor_08</th>\n",
       "      <th>sensor_09</th>\n",
       "      <th>...</th>\n",
       "      <th>sensor_43</th>\n",
       "      <th>sensor_44</th>\n",
       "      <th>sensor_45</th>\n",
       "      <th>sensor_46</th>\n",
       "      <th>sensor_47</th>\n",
       "      <th>sensor_48</th>\n",
       "      <th>sensor_49</th>\n",
       "      <th>sensor_50</th>\n",
       "      <th>sensor_51</th>\n",
       "      <th>label</th>\n",
       "    </tr>\n",
       "  </thead>\n",
       "  <tbody>\n",
       "    <tr>\n",
       "      <th>0</th>\n",
       "      <td>2.465394</td>\n",
       "      <td>47.09201</td>\n",
       "      <td>53.2118</td>\n",
       "      <td>46.310760</td>\n",
       "      <td>634.3750</td>\n",
       "      <td>76.45975</td>\n",
       "      <td>13.41146</td>\n",
       "      <td>16.13136</td>\n",
       "      <td>15.56713</td>\n",
       "      <td>15.05353</td>\n",
       "      <td>...</td>\n",
       "      <td>41.92708</td>\n",
       "      <td>39.641200</td>\n",
       "      <td>65.68287</td>\n",
       "      <td>50.92593</td>\n",
       "      <td>38.194440</td>\n",
       "      <td>157.9861</td>\n",
       "      <td>67.70834</td>\n",
       "      <td>243.0556</td>\n",
       "      <td>201.3889</td>\n",
       "      <td>0.0</td>\n",
       "    </tr>\n",
       "    <tr>\n",
       "      <th>1</th>\n",
       "      <td>2.465394</td>\n",
       "      <td>47.09201</td>\n",
       "      <td>53.2118</td>\n",
       "      <td>46.310760</td>\n",
       "      <td>634.3750</td>\n",
       "      <td>76.45975</td>\n",
       "      <td>13.41146</td>\n",
       "      <td>16.13136</td>\n",
       "      <td>15.56713</td>\n",
       "      <td>15.05353</td>\n",
       "      <td>...</td>\n",
       "      <td>41.92708</td>\n",
       "      <td>39.641200</td>\n",
       "      <td>65.68287</td>\n",
       "      <td>50.92593</td>\n",
       "      <td>38.194440</td>\n",
       "      <td>157.9861</td>\n",
       "      <td>67.70834</td>\n",
       "      <td>243.0556</td>\n",
       "      <td>201.3889</td>\n",
       "      <td>0.0</td>\n",
       "    </tr>\n",
       "    <tr>\n",
       "      <th>2</th>\n",
       "      <td>2.444734</td>\n",
       "      <td>47.35243</td>\n",
       "      <td>53.2118</td>\n",
       "      <td>46.397570</td>\n",
       "      <td>638.8889</td>\n",
       "      <td>73.54598</td>\n",
       "      <td>13.32465</td>\n",
       "      <td>16.03733</td>\n",
       "      <td>15.61777</td>\n",
       "      <td>15.01013</td>\n",
       "      <td>...</td>\n",
       "      <td>41.66666</td>\n",
       "      <td>39.351852</td>\n",
       "      <td>65.39352</td>\n",
       "      <td>51.21528</td>\n",
       "      <td>38.194443</td>\n",
       "      <td>155.9606</td>\n",
       "      <td>67.12963</td>\n",
       "      <td>241.3194</td>\n",
       "      <td>203.7037</td>\n",
       "      <td>0.0</td>\n",
       "    </tr>\n",
       "    <tr>\n",
       "      <th>3</th>\n",
       "      <td>2.460474</td>\n",
       "      <td>47.09201</td>\n",
       "      <td>53.1684</td>\n",
       "      <td>46.397568</td>\n",
       "      <td>628.1250</td>\n",
       "      <td>76.98898</td>\n",
       "      <td>13.31742</td>\n",
       "      <td>16.24711</td>\n",
       "      <td>15.69734</td>\n",
       "      <td>15.08247</td>\n",
       "      <td>...</td>\n",
       "      <td>40.88541</td>\n",
       "      <td>39.062500</td>\n",
       "      <td>64.81481</td>\n",
       "      <td>51.21528</td>\n",
       "      <td>38.194440</td>\n",
       "      <td>155.9606</td>\n",
       "      <td>66.84028</td>\n",
       "      <td>240.4514</td>\n",
       "      <td>203.1250</td>\n",
       "      <td>0.0</td>\n",
       "    </tr>\n",
       "    <tr>\n",
       "      <th>4</th>\n",
       "      <td>2.445718</td>\n",
       "      <td>47.13541</td>\n",
       "      <td>53.2118</td>\n",
       "      <td>46.397568</td>\n",
       "      <td>636.4583</td>\n",
       "      <td>76.58897</td>\n",
       "      <td>13.35359</td>\n",
       "      <td>16.21094</td>\n",
       "      <td>15.69734</td>\n",
       "      <td>15.08247</td>\n",
       "      <td>...</td>\n",
       "      <td>41.40625</td>\n",
       "      <td>38.773150</td>\n",
       "      <td>65.10416</td>\n",
       "      <td>51.79398</td>\n",
       "      <td>38.773150</td>\n",
       "      <td>158.2755</td>\n",
       "      <td>66.55093</td>\n",
       "      <td>242.1875</td>\n",
       "      <td>201.3889</td>\n",
       "      <td>0.0</td>\n",
       "    </tr>\n",
       "  </tbody>\n",
       "</table>\n",
       "<p>5 rows × 52 columns</p>\n",
       "</div>"
      ],
      "text/plain": [
       "   sensor_00  sensor_01  sensor_02  sensor_03  sensor_04  sensor_05  \\\n",
       "0   2.465394   47.09201    53.2118  46.310760   634.3750   76.45975   \n",
       "1   2.465394   47.09201    53.2118  46.310760   634.3750   76.45975   \n",
       "2   2.444734   47.35243    53.2118  46.397570   638.8889   73.54598   \n",
       "3   2.460474   47.09201    53.1684  46.397568   628.1250   76.98898   \n",
       "4   2.445718   47.13541    53.2118  46.397568   636.4583   76.58897   \n",
       "\n",
       "   sensor_06  sensor_07  sensor_08  sensor_09  ...  sensor_43  sensor_44  \\\n",
       "0   13.41146   16.13136   15.56713   15.05353  ...   41.92708  39.641200   \n",
       "1   13.41146   16.13136   15.56713   15.05353  ...   41.92708  39.641200   \n",
       "2   13.32465   16.03733   15.61777   15.01013  ...   41.66666  39.351852   \n",
       "3   13.31742   16.24711   15.69734   15.08247  ...   40.88541  39.062500   \n",
       "4   13.35359   16.21094   15.69734   15.08247  ...   41.40625  38.773150   \n",
       "\n",
       "   sensor_45  sensor_46  sensor_47  sensor_48  sensor_49  sensor_50  \\\n",
       "0   65.68287   50.92593  38.194440   157.9861   67.70834   243.0556   \n",
       "1   65.68287   50.92593  38.194440   157.9861   67.70834   243.0556   \n",
       "2   65.39352   51.21528  38.194443   155.9606   67.12963   241.3194   \n",
       "3   64.81481   51.21528  38.194440   155.9606   66.84028   240.4514   \n",
       "4   65.10416   51.79398  38.773150   158.2755   66.55093   242.1875   \n",
       "\n",
       "   sensor_51  label  \n",
       "0   201.3889    0.0  \n",
       "1   201.3889    0.0  \n",
       "2   203.7037    0.0  \n",
       "3   203.1250    0.0  \n",
       "4   201.3889    0.0  \n",
       "\n",
       "[5 rows x 52 columns]"
      ]
     },
     "execution_count": 51,
     "metadata": {},
     "output_type": "execute_result"
    }
   ],
   "source": [
    "data_10min_shift = shift_labels(sensor_data.columns[1:-1], sensor_data)\n",
    "data_10min_shift.head()"
   ]
  },
  {
   "attachments": {},
   "cell_type": "markdown",
   "metadata": {
    "id": "QPVxk40aOCyy"
   },
   "source": [
    "### Distribution plot\n",
    "For selecting best features, distribution of sensor readings corresponding to Noraml class and Broken class is plotted"
   ]
  },
  {
   "cell_type": "code",
   "execution_count": 52,
   "metadata": {
    "id": "QlSYJZyeHGNM"
   },
   "outputs": [],
   "source": [
    "def get_distrib_plot(sensor, df):\n",
    "    \"\"\"\n",
    "    Function to plot distribution of sensor readings for Normal and Broken state\n",
    "    \"\"\"\n",
    "    # sensor values corrensponding machine status Normal\n",
    "    normal = df[df['label']==0][sensor].values\n",
    "    # sensor values corrensponding machine status Broken\n",
    "    broken = df[df['label']==1][sensor].values\n",
    "\n",
    "    plt.figure(figsize=(10,3))\n",
    "    # distribution for normal state\n",
    "    sns.distplot(normal, hist=False, label=\"Normal\") \n",
    "    # distribution for broken state\n",
    "    sns.distplot(broken, hist=False, label=\"Broken\") \n",
    "    plt.title('Distribution of sensor readings corresponding Normal and Broken state')\n",
    "    plt.xlabel(f'{sensor} readings')\n",
    "    plt.legend()\n",
    "    plt.show()"
   ]
  },
  {
   "attachments": {},
   "cell_type": "markdown",
   "metadata": {
    "id": "h6De5ZYFfbJG"
   },
   "source": [
    "#### Sensor_00:"
   ]
  },
  {
   "cell_type": "code",
   "execution_count": null,
   "metadata": {},
   "outputs": [
    {
     "data": {
      "image/png": "[encoded data removed]",
      "text/plain": [
       "<Figure size 1000x300 with 1 Axes>"
      ]
     },
     "metadata": {},
     "output_type": "display_data"
    }
   ],
   "source": [
    "get_distrib_plot('sensor_00', data_10min_shift)"
   ]
  },
  {
   "attachments": {},
   "cell_type": "markdown",
   "metadata": {
    "id": "h6De5ZYFfbJG"
   },
   "source": [
    "#### Sensor_01:"
   ]
  },
  {
   "cell_type": "code",
   "execution_count": null,
   "metadata": {
    "id": "HPi45twufbJG",
    "outputId": "99b81dea-0a7a-4dbc-bbff-8e5bf18fb2bb"
   },
   "outputs": [],
   "source": [
    "get_distrib_plot('sensor_01', data_10min_shift)"
   ]
  },
  {
   "attachments": {},
   "cell_type": "markdown",
   "metadata": {
    "id": "GgsH2XQJfbJG"
   },
   "source": [
    "#### Sensor_02:"
   ]
  },
  {
   "cell_type": "code",
   "execution_count": null,
   "metadata": {
    "id": "gQqZtn8tfbJG",
    "outputId": "d51ee6d5-c7ba-4e95-ebd8-13042a0a7feb"
   },
   "outputs": [],
   "source": [
    "get_distrib_plot('sensor_02', data_10min_shift)"
   ]
  },
  {
   "attachments": {},
   "cell_type": "markdown",
   "metadata": {
    "id": "kejnFVv7fbJG"
   },
   "source": [
    "#### Sensor_03:"
   ]
  },
  {
   "cell_type": "code",
   "execution_count": null,
   "metadata": {
    "id": "GQJO-rnGfbJH",
    "outputId": "5df047af-5763-4c7f-a11e-bb4427582930"
   },
   "outputs": [],
   "source": [
    "get_distrib_plot('sensor_03', data_10min_shift)"
   ]
  },
  {
   "attachments": {},
   "cell_type": "markdown",
   "metadata": {
    "id": "KtxGsrVEfbJH"
   },
   "source": [
    "#### Sensor_04:"
   ]
  },
  {
   "cell_type": "code",
   "execution_count": null,
   "metadata": {
    "id": "Kg2LDkzgfbJH",
    "outputId": "c93fa64f-c528-4250-a6a6-f7a0534aa19f"
   },
   "outputs": [],
   "source": [
    "get_distrib_plot('sensor_04', data_10min_shift)"
   ]
  },
  {
   "attachments": {},
   "cell_type": "markdown",
   "metadata": {
    "id": "QKyHiA9xfbJH"
   },
   "source": [
    "#### Sensor_05:"
   ]
  },
  {
   "cell_type": "code",
   "execution_count": null,
   "metadata": {
    "id": "seWDKtW2fbJH",
    "outputId": "a011ed24-2ebd-4f02-a543-c29e42eef874"
   },
   "outputs": [],
   "source": [
    "get_distrib_plot('sensor_05', data_10min_shift)"
   ]
  },
  {
   "attachments": {},
   "cell_type": "markdown",
   "metadata": {
    "id": "o4lHSMsEfbJH"
   },
   "source": [
    "#### Sensor_06:"
   ]
  },
  {
   "cell_type": "code",
   "execution_count": null,
   "metadata": {
    "id": "pofdm7O9fbJH",
    "outputId": "8d737185-8f8b-4986-a5b9-4c1589ba4ad4"
   },
   "outputs": [],
   "source": [
    "get_distrib_plot('sensor_06', data_10min_shift)"
   ]
  },
  {
   "attachments": {},
   "cell_type": "markdown",
   "metadata": {
    "id": "VSPGTxDHfbJH"
   },
   "source": [
    "#### Sensor_07:"
   ]
  },
  {
   "cell_type": "code",
   "execution_count": null,
   "metadata": {
    "id": "MwHjJO8dfbJI",
    "outputId": "0d80c886-2f17-4c9e-d429-7aae45ec30d1"
   },
   "outputs": [],
   "source": [
    "get_distrib_plot('sensor_07', data_10min_shift)"
   ]
  },
  {
   "attachments": {},
   "cell_type": "markdown",
   "metadata": {
    "id": "qvE5HYZhfbJI"
   },
   "source": [
    "#### Sensor_08:"
   ]
  },
  {
   "cell_type": "code",
   "execution_count": null,
   "metadata": {
    "id": "s22mVW0SfbJI",
    "outputId": "4e55fdb3-1915-4ed4-e49e-3fab874e1510"
   },
   "outputs": [],
   "source": [
    "get_distrib_plot('sensor_08', data_10min_shift)"
   ]
  },
  {
   "attachments": {},
   "cell_type": "markdown",
   "metadata": {
    "id": "IqmKE4aNfbJI"
   },
   "source": [
    "#### Sensor_09:"
   ]
  },
  {
   "cell_type": "code",
   "execution_count": null,
   "metadata": {
    "id": "W-HILM_7fbJI",
    "outputId": "44114abf-faad-4162-d82a-364d9d287244"
   },
   "outputs": [],
   "source": [
    "get_distrib_plot('sensor_09', data_10min_shift)"
   ]
  },
  {
   "attachments": {},
   "cell_type": "markdown",
   "metadata": {
    "id": "OlRbhjH2fbJI"
   },
   "source": [
    "#### Sensor_10:"
   ]
  },
  {
   "cell_type": "code",
   "execution_count": null,
   "metadata": {
    "id": "ZrmiO0OufbJI",
    "outputId": "da27017a-09f1-4b36-b36d-8f3a645859d4"
   },
   "outputs": [],
   "source": [
    "get_distrib_plot('sensor_10', data_10min_shift)"
   ]
  },
  {
   "attachments": {},
   "cell_type": "markdown",
   "metadata": {
    "id": "hLZ70N3tfbJI"
   },
   "source": [
    "#### Sensor_11:"
   ]
  },
  {
   "cell_type": "code",
   "execution_count": null,
   "metadata": {
    "id": "zKOLeIebfbJJ",
    "outputId": "c8cee006-e9d0-4612-8216-79039c20751a"
   },
   "outputs": [],
   "source": [
    "get_distrib_plot('sensor_11', data_10min_shift)"
   ]
  },
  {
   "attachments": {},
   "cell_type": "markdown",
   "metadata": {
    "id": "TDKlK8NxfbJJ"
   },
   "source": [
    "#### Sensor_12:"
   ]
  },
  {
   "cell_type": "code",
   "execution_count": null,
   "metadata": {
    "id": "fV6tifo2fbJJ",
    "outputId": "8962ebda-4f16-49f0-cf92-06a6d6782c53"
   },
   "outputs": [],
   "source": [
    "get_distrib_plot('sensor_12', data_10min_shift)"
   ]
  },
  {
   "attachments": {},
   "cell_type": "markdown",
   "metadata": {
    "id": "VJhAFOvIfbJJ"
   },
   "source": [
    "#### Sensor_13:"
   ]
  },
  {
   "cell_type": "code",
   "execution_count": null,
   "metadata": {
    "id": "hVs_Smf0fbJJ",
    "outputId": "04bed1e4-677c-47af-daa2-fad06c001105"
   },
   "outputs": [],
   "source": [
    "get_distrib_plot('sensor_13', data_10min_shift)"
   ]
  },
  {
   "attachments": {},
   "cell_type": "markdown",
   "metadata": {
    "id": "sGvF-eN_fbJJ"
   },
   "source": [
    "#### Sensor_14:"
   ]
  },
  {
   "cell_type": "code",
   "execution_count": null,
   "metadata": {
    "id": "Hp9KN8wLfbJJ",
    "outputId": "a843a78b-2846-4933-de48-05fe4a4aa04f"
   },
   "outputs": [],
   "source": [
    "get_distrib_plot('sensor_14', data_10min_shift)"
   ]
  },
  {
   "attachments": {},
   "cell_type": "markdown",
   "metadata": {
    "id": "emsWeZnXfbJK"
   },
   "source": [
    "#### Sensor_16:"
   ]
  },
  {
   "cell_type": "code",
   "execution_count": null,
   "metadata": {
    "id": "8wcFBJO4fbJK",
    "outputId": "26ce0274-7c2f-4b9f-fd5a-b19fcbfe4d16"
   },
   "outputs": [],
   "source": [
    "get_distrib_plot('sensor_16', data_10min_shift)"
   ]
  },
  {
   "attachments": {},
   "cell_type": "markdown",
   "metadata": {
    "id": "4QCDBtuNfbJK"
   },
   "source": [
    "#### Sensor_17:"
   ]
  },
  {
   "cell_type": "code",
   "execution_count": null,
   "metadata": {
    "id": "mCBt83R8fbJK",
    "outputId": "959edb1d-92e8-49d7-fe71-be8bf9cae77e"
   },
   "outputs": [],
   "source": [
    "get_distrib_plot('sensor_17', data_10min_shift)"
   ]
  },
  {
   "attachments": {},
   "cell_type": "markdown",
   "metadata": {
    "id": "VNXxeqqkfbJK"
   },
   "source": [
    "#### Sensor_18:"
   ]
  },
  {
   "cell_type": "code",
   "execution_count": null,
   "metadata": {
    "id": "KIBErA1qfbJK",
    "outputId": "9e8791a3-08ae-44a7-bec1-0816e05bb445"
   },
   "outputs": [],
   "source": [
    "get_distrib_plot('sensor_18', data_10min_shift)"
   ]
  },
  {
   "attachments": {},
   "cell_type": "markdown",
   "metadata": {
    "id": "ehyJkiIPfbJK"
   },
   "source": [
    "#### Sensor_19:"
   ]
  },
  {
   "cell_type": "code",
   "execution_count": null,
   "metadata": {
    "id": "A-IvCGmgfbJK",
    "outputId": "aaa875ff-296a-4ee7-d382-e4e8e058de1a"
   },
   "outputs": [],
   "source": [
    "get_distrib_plot('sensor_19', data_10min_shift)"
   ]
  },
  {
   "attachments": {},
   "cell_type": "markdown",
   "metadata": {
    "id": "EZ2rYKp8fbJL"
   },
   "source": [
    "#### Sensor_20:"
   ]
  },
  {
   "cell_type": "code",
   "execution_count": null,
   "metadata": {
    "id": "lzDKQrx1fbJL",
    "outputId": "7a2abdc0-9a5c-45bb-ab36-7de218b15046"
   },
   "outputs": [],
   "source": [
    "get_distrib_plot('sensor_20', data_10min_shift)"
   ]
  },
  {
   "attachments": {},
   "cell_type": "markdown",
   "metadata": {
    "id": "041B7hU-fbJL"
   },
   "source": [
    "#### Sensor_21:"
   ]
  },
  {
   "cell_type": "code",
   "execution_count": null,
   "metadata": {
    "id": "IYAsiY7LfbJL",
    "outputId": "d5d16df4-3ad7-4762-828b-510f6c40e451"
   },
   "outputs": [],
   "source": [
    "get_distrib_plot('sensor_21', data_10min_shift)"
   ]
  },
  {
   "attachments": {},
   "cell_type": "markdown",
   "metadata": {
    "id": "7DMIx4gJfbJL"
   },
   "source": [
    "#### Sensor_22:"
   ]
  },
  {
   "cell_type": "code",
   "execution_count": null,
   "metadata": {
    "id": "bf_dH3p0fbJL",
    "outputId": "4da9787b-02be-498e-d64a-e9382d1d98ad"
   },
   "outputs": [],
   "source": [
    "get_distrib_plot('sensor_22', data_10min_shift)"
   ]
  },
  {
   "attachments": {},
   "cell_type": "markdown",
   "metadata": {
    "id": "OdixKoi4fbJL"
   },
   "source": [
    "#### Sensor_23:"
   ]
  },
  {
   "cell_type": "code",
   "execution_count": null,
   "metadata": {
    "id": "DO78nMNPfbJL",
    "outputId": "351aa3a2-756e-4d5e-a36b-54664af05843"
   },
   "outputs": [],
   "source": [
    "get_distrib_plot('sensor_23', data_10min_shift)"
   ]
  },
  {
   "attachments": {},
   "cell_type": "markdown",
   "metadata": {
    "id": "lKd1OL1PfbJM"
   },
   "source": [
    "#### Sensor_24:"
   ]
  },
  {
   "cell_type": "code",
   "execution_count": null,
   "metadata": {
    "id": "uNx0cBH5fbJM",
    "outputId": "1aef0de0-aafd-4718-b9ec-efe993847be2"
   },
   "outputs": [],
   "source": [
    "get_distrib_plot('sensor_24', data_10min_shift)"
   ]
  },
  {
   "attachments": {},
   "cell_type": "markdown",
   "metadata": {
    "id": "CYhhuX9LfbJM"
   },
   "source": [
    "#### Sensor_25:"
   ]
  },
  {
   "cell_type": "code",
   "execution_count": null,
   "metadata": {
    "id": "2Oc86KyefbJM",
    "outputId": "93f38e33-8cfc-4f19-8337-9c006b0aa416"
   },
   "outputs": [],
   "source": [
    "get_distrib_plot('sensor_25', data_10min_shift)"
   ]
  },
  {
   "attachments": {},
   "cell_type": "markdown",
   "metadata": {
    "id": "8uFIQrChfbJM"
   },
   "source": [
    "#### Sensor_27:"
   ]
  },
  {
   "cell_type": "code",
   "execution_count": null,
   "metadata": {
    "id": "LHZ0tqsMfbJM",
    "outputId": "acc2eee9-1631-4713-fc35-fefe12066d04"
   },
   "outputs": [],
   "source": [
    "get_distrib_plot('sensor_27', data_10min_shift)"
   ]
  },
  {
   "attachments": {},
   "cell_type": "markdown",
   "metadata": {
    "id": "LfGq0X-ifbJN"
   },
   "source": [
    "#### Sensor_28:"
   ]
  },
  {
   "cell_type": "code",
   "execution_count": null,
   "metadata": {
    "id": "Iamk-pWBfbJN",
    "outputId": "ac1d2a85-113a-4a84-bcaf-765a1f2aacd9"
   },
   "outputs": [],
   "source": [
    "get_distrib_plot('sensor_28', data_10min_shift)"
   ]
  },
  {
   "attachments": {},
   "cell_type": "markdown",
   "metadata": {
    "id": "dYwUnl5NfbJN"
   },
   "source": [
    "#### Sensor_29:"
   ]
  },
  {
   "cell_type": "code",
   "execution_count": null,
   "metadata": {
    "id": "WK4_xJ63fbJN",
    "outputId": "0d90aab7-b9a9-4bb7-d09a-1a5bf4d6e9d6"
   },
   "outputs": [],
   "source": [
    "get_distrib_plot('sensor_29', data_10min_shift)"
   ]
  },
  {
   "attachments": {},
   "cell_type": "markdown",
   "metadata": {
    "id": "iiyN7nX3fbJN"
   },
   "source": [
    "#### Sensor_30:"
   ]
  },
  {
   "cell_type": "code",
   "execution_count": null,
   "metadata": {
    "id": "-2BeqpfKfbJN",
    "outputId": "17ba4fbe-b856-4910-fcc8-58f8c2f75404"
   },
   "outputs": [],
   "source": [
    "get_distrib_plot('sensor_30', data_10min_shift)"
   ]
  },
  {
   "attachments": {},
   "cell_type": "markdown",
   "metadata": {
    "id": "y_jm47FbfbJN"
   },
   "source": [
    "#### Sensor_31:"
   ]
  },
  {
   "cell_type": "code",
   "execution_count": null,
   "metadata": {
    "id": "XJWEWs_kfbJN",
    "outputId": "cff26bad-0ce8-4284-c6d7-cb09cd4508a7"
   },
   "outputs": [],
   "source": [
    "get_distrib_plot('sensor_31', data_10min_shift)"
   ]
  },
  {
   "attachments": {},
   "cell_type": "markdown",
   "metadata": {
    "id": "MCJSKfa3fbJO"
   },
   "source": [
    "#### Sensor_32:"
   ]
  },
  {
   "cell_type": "code",
   "execution_count": null,
   "metadata": {
    "id": "qJR4fg9_fbJO",
    "outputId": "5f3addbd-6cbd-4bd3-eb3b-f8019202574c"
   },
   "outputs": [],
   "source": [
    "get_distrib_plot('sensor_32', data_10min_shift)"
   ]
  },
  {
   "attachments": {},
   "cell_type": "markdown",
   "metadata": {
    "id": "k5ZM4J5OfbJO"
   },
   "source": [
    "#### Sensor_33:"
   ]
  },
  {
   "cell_type": "code",
   "execution_count": null,
   "metadata": {
    "id": "xfVmxfxJfbJO",
    "outputId": "fb81dfe7-4974-42c7-ad49-9632ea0254d3"
   },
   "outputs": [],
   "source": [
    "get_distrib_plot('sensor_33', data_10min_shift)"
   ]
  },
  {
   "attachments": {},
   "cell_type": "markdown",
   "metadata": {
    "id": "LIzcgiJOfbJO"
   },
   "source": [
    "#### Sensor_34:"
   ]
  },
  {
   "cell_type": "code",
   "execution_count": null,
   "metadata": {
    "id": "p-vI5MUufbJO",
    "outputId": "cfbc542e-f529-4bcd-a7d0-118c6dd260a1"
   },
   "outputs": [],
   "source": [
    "get_distrib_plot('sensor_34', data_10min_shift)"
   ]
  },
  {
   "attachments": {},
   "cell_type": "markdown",
   "metadata": {
    "id": "azP1LUDZfbJO"
   },
   "source": [
    "#### Sensor_35:"
   ]
  },
  {
   "cell_type": "code",
   "execution_count": null,
   "metadata": {
    "id": "EIgM2iZwfbJO",
    "outputId": "7ea309d3-aac5-4ada-cb5b-8ffb03bf8f61"
   },
   "outputs": [],
   "source": [
    "get_distrib_plot('sensor_35', data_10min_shift)"
   ]
  },
  {
   "attachments": {},
   "cell_type": "markdown",
   "metadata": {
    "id": "GBJFWM6PfbJP"
   },
   "source": [
    "#### Sensor_36:"
   ]
  },
  {
   "cell_type": "code",
   "execution_count": null,
   "metadata": {
    "id": "wQDznPRqfbJP",
    "outputId": "b94e0bf3-628b-4c17-d046-064d368d7bc1"
   },
   "outputs": [],
   "source": [
    "get_distrib_plot('sensor_36', data_10min_shift)"
   ]
  },
  {
   "attachments": {},
   "cell_type": "markdown",
   "metadata": {
    "id": "Z5tNETlzfbJP"
   },
   "source": [
    "#### Sensor_37:"
   ]
  },
  {
   "cell_type": "code",
   "execution_count": null,
   "metadata": {
    "id": "X8V4dfLifbJP",
    "outputId": "06f57ffc-3ac1-4435-f967-8da011c380c0"
   },
   "outputs": [],
   "source": [
    "get_distrib_plot('sensor_37', data_10min_shift)"
   ]
  },
  {
   "attachments": {},
   "cell_type": "markdown",
   "metadata": {
    "id": "b03wqdRGfbJP"
   },
   "source": [
    "#### Sensor_38:"
   ]
  },
  {
   "cell_type": "code",
   "execution_count": null,
   "metadata": {
    "id": "-qoII41ifbJP",
    "outputId": "c9c27b0b-70a1-4da6-d778-2e43d3f1e7ef"
   },
   "outputs": [],
   "source": [
    "get_distrib_plot('sensor_38', data_10min_shift)"
   ]
  },
  {
   "attachments": {},
   "cell_type": "markdown",
   "metadata": {
    "id": "onp8ioVJfbJP"
   },
   "source": [
    "#### Sensor_39:"
   ]
  },
  {
   "cell_type": "code",
   "execution_count": null,
   "metadata": {
    "id": "TdEub8sIfbJP",
    "outputId": "eae91891-1907-4f27-f4a4-46d002c1b162"
   },
   "outputs": [],
   "source": [
    "get_distrib_plot('sensor_39', data_10min_shift)"
   ]
  },
  {
   "attachments": {},
   "cell_type": "markdown",
   "metadata": {
    "id": "JtVvO9YIfbJQ"
   },
   "source": [
    "#### Sensor_40:"
   ]
  },
  {
   "cell_type": "code",
   "execution_count": null,
   "metadata": {
    "id": "78cWvJMcfbJQ",
    "outputId": "f0190cc5-5e26-4e51-c648-e0da35c1c35d"
   },
   "outputs": [],
   "source": [
    "get_distrib_plot('sensor_40', data_10min_shift)"
   ]
  },
  {
   "attachments": {},
   "cell_type": "markdown",
   "metadata": {
    "id": "t1X5sDqPfbJQ"
   },
   "source": [
    "#### Sensor_41:"
   ]
  },
  {
   "cell_type": "code",
   "execution_count": null,
   "metadata": {
    "id": "759LOL0zfbJQ",
    "outputId": "1043c4e5-58ab-4c1a-9809-ba8b19fe0652"
   },
   "outputs": [],
   "source": [
    "get_distrib_plot('sensor_41', data_10min_shift)"
   ]
  },
  {
   "attachments": {},
   "cell_type": "markdown",
   "metadata": {
    "id": "Ha_Q_zt7fbJQ"
   },
   "source": [
    "#### Sensor_42:"
   ]
  },
  {
   "cell_type": "code",
   "execution_count": null,
   "metadata": {
    "id": "x6twzUpqfbJQ",
    "outputId": "0023d96a-b1c2-46bf-812a-e527387629ec"
   },
   "outputs": [],
   "source": [
    "get_distrib_plot('sensor_42', data_10min_shift)"
   ]
  },
  {
   "attachments": {},
   "cell_type": "markdown",
   "metadata": {
    "id": "O7osbuROfbJQ"
   },
   "source": [
    "#### Sensor_43:"
   ]
  },
  {
   "cell_type": "code",
   "execution_count": null,
   "metadata": {
    "id": "LlT8xx_LfbJQ",
    "outputId": "b67d55fc-d410-4af3-8834-feedec869d07"
   },
   "outputs": [],
   "source": [
    "get_distrib_plot('sensor_43', data_10min_shift)"
   ]
  },
  {
   "attachments": {},
   "cell_type": "markdown",
   "metadata": {
    "id": "5bFsaZgIfbJR"
   },
   "source": [
    "#### Sensor_44:"
   ]
  },
  {
   "cell_type": "code",
   "execution_count": null,
   "metadata": {
    "id": "XnECoXCsfbJR",
    "outputId": "167cfada-1b53-4056-ed42-2bc8993da431"
   },
   "outputs": [],
   "source": [
    "get_distrib_plot('sensor_44', data_10min_shift)"
   ]
  },
  {
   "attachments": {},
   "cell_type": "markdown",
   "metadata": {
    "id": "RvYBhfbafbJR"
   },
   "source": [
    "#### Sensor_45:"
   ]
  },
  {
   "cell_type": "code",
   "execution_count": null,
   "metadata": {
    "id": "Dqe0Y5xLfbJR",
    "outputId": "adbee1af-d25e-4b7c-dca7-b7f746dd5285"
   },
   "outputs": [],
   "source": [
    "get_distrib_plot('sensor_45', data_10min_shift)"
   ]
  },
  {
   "attachments": {},
   "cell_type": "markdown",
   "metadata": {
    "id": "rfrgixcNfbJR"
   },
   "source": [
    "#### Sensor_46:"
   ]
  },
  {
   "cell_type": "code",
   "execution_count": null,
   "metadata": {
    "id": "y9qnl-1TfbJR",
    "outputId": "24050727-04fd-4a05-9297-230c4949edda"
   },
   "outputs": [],
   "source": [
    "get_distrib_plot('sensor_46', data_10min_shift)"
   ]
  },
  {
   "attachments": {},
   "cell_type": "markdown",
   "metadata": {
    "id": "HpCwImiPfbJR"
   },
   "source": [
    "#### Sensor_47:"
   ]
  },
  {
   "cell_type": "code",
   "execution_count": null,
   "metadata": {
    "id": "TkT4HHqufbJR",
    "outputId": "fbb5d6da-4e3c-4b78-cabb-0223f60fdf28"
   },
   "outputs": [],
   "source": [
    "get_distrib_plot('sensor_47', data_10min_shift)"
   ]
  },
  {
   "attachments": {},
   "cell_type": "markdown",
   "metadata": {
    "id": "s32aa8GgfbJT"
   },
   "source": [
    "#### Sensor_48:"
   ]
  },
  {
   "cell_type": "code",
   "execution_count": null,
   "metadata": {
    "id": "D9sqO1rufbJT",
    "outputId": "347dc9d5-8bf7-477f-fffd-cea24cea36f5"
   },
   "outputs": [],
   "source": [
    "get_distrib_plot('sensor_48', data_10min_shift)"
   ]
  },
  {
   "attachments": {},
   "cell_type": "markdown",
   "metadata": {
    "id": "BxeSwwdwfbJU"
   },
   "source": [
    "#### Sensor_49:"
   ]
  },
  {
   "cell_type": "code",
   "execution_count": null,
   "metadata": {
    "id": "Aox6m7NwfbJU",
    "outputId": "98d6fc2b-8ff3-4d01-b2b8-6a898f6f2cf9"
   },
   "outputs": [],
   "source": [
    "get_distrib_plot('sensor_49', data_10min_shift)"
   ]
  },
  {
   "attachments": {},
   "cell_type": "markdown",
   "metadata": {
    "id": "Dg5lo5yffbJU"
   },
   "source": [
    "#### Sensor_50:"
   ]
  },
  {
   "cell_type": "code",
   "execution_count": null,
   "metadata": {
    "id": "1wpO53TrfbJU",
    "outputId": "110a4d76-b010-4934-b9e2-7a91244901ac"
   },
   "outputs": [],
   "source": [
    "get_distrib_plot('sensor_50', data_10min_shift)"
   ]
  },
  {
   "cell_type": "code",
   "execution_count": null,
   "metadata": {
    "id": "qCyAPwkTfbJU",
    "outputId": "8f730817-1917-481e-f2e8-d854aab708e9"
   },
   "outputs": [],
   "source": [
    "get_distrib_plot('sensor_51', data_10min_shift)"
   ]
  },
  {
   "attachments": {},
   "cell_type": "markdown",
   "metadata": {
    "id": "nov4LWcTfbJz"
   },
   "source": [
    "### Feature Selection:\n",
    "* sensor_00, sensor_04, sensor_06, sensor_07, sensor_08, sensor_09, sensor_10, sensor_11  \n",
    "and sensor_12 are selected for training a classification model"
   ]
  },
  {
   "cell_type": "code",
   "execution_count": 54,
   "metadata": {
    "id": "yGOn2XYdPrOQ"
   },
   "outputs": [],
   "source": [
    "final_sensors = ['sensor_00', 'sensor_04', 'sensor_06', 'sensor_07', \n",
    "                 'sensor_08', 'sensor_09', 'sensor_10', 'sensor_11', \n",
    "                 'sensor_12']"
   ]
  }
 ],
 "metadata": {
  "colab": {
   "collapsed_sections": [
    "E3e2Du3wfbI0",
    "MSiyYTE4fbI0",
    "UotiwBBLfbI1",
    "_uV0bwNRfbI1",
    "LCkr6OagfbI1",
    "X37NSYOefbI2",
    "koW6u0aNfbI2",
    "Pnmo_rzLfbI3",
    "ZZcylOAdfbI3",
    "CDYalRbGfbI3",
    "NNS4PyegfbI4",
    "WcBlGqEZfbI4",
    "pIr2-X0efbI4",
    "V4Ogm6CGfbI5",
    "G7dWNv8PfbI5",
    "jwY8-SiRfbI5",
    "JofyKdmZfbI6",
    "kaAtKf1GfbI6",
    "9AQVeyDIfbI6",
    "eEk7BX62fbI7",
    "HSUCKoczfbI7",
    "GDmAR0HafbI7",
    "_S8FqnaJfbI7",
    "xhd1EcPAfbI8",
    "Q-gWNF1UfbI8",
    "TB4nY1r7fbI9",
    "FA3YXbGYfbI9",
    "CWWXCBX5fbI9",
    "DPKCDytIfbI9",
    "w6ORq7WWfbI-",
    "SED27bRKfbI-",
    "v778EvkdfbI-",
    "Cw3t8rOVfbI_",
    "B41z_QuHfbI_",
    "tumhFwzofbJA",
    "ThYSM7AVfbJB",
    "VHb9OGlsfbJB",
    "rYJmmdjyfbJB",
    "N-3o4DPlfbJB",
    "XLsEXe73fbJC",
    "STPxoVYUfbJC",
    "6m9KWKJDfbJC",
    "PcHN6qb_fbJD",
    "emRQlpv5fbJE",
    "h6De5ZYFfbJG",
    "BQ1gZwDjfbJG",
    "GgsH2XQJfbJG",
    "1UJV0EC4fbJG",
    "kejnFVv7fbJG",
    "gOcKPER0fbJH",
    "KtxGsrVEfbJH",
    "TCUtOvnBfbJH",
    "QKyHiA9xfbJH",
    "a70M6CTEfbJH",
    "o4lHSMsEfbJH",
    "vD1v9_EWfbJH",
    "VSPGTxDHfbJH",
    "38QwKnrAfbJI",
    "qvE5HYZhfbJI",
    "9XLbrfDFfbJI",
    "IqmKE4aNfbJI",
    "WeFrMdMRfbJI",
    "OlRbhjH2fbJI",
    "gxjuAgO9fbJI",
    "hLZ70N3tfbJI",
    "-nmpuENufbJJ",
    "TDKlK8NxfbJJ",
    "sBNAW5agfbJJ",
    "VJhAFOvIfbJJ",
    "ZlKpnvM1fbJJ",
    "sGvF-eN_fbJJ",
    "jh_xdYHGfbJJ",
    "emsWeZnXfbJK",
    "mR6Er3lwfbJK",
    "4QCDBtuNfbJK",
    "LSL2xD0OfbJK",
    "VNXxeqqkfbJK",
    "oX2T80q7fbJK",
    "ehyJkiIPfbJK",
    "94ZWO8n7fbJL",
    "EZ2rYKp8fbJL",
    "kc1GXdQZfbJL",
    "041B7hU-fbJL",
    "pQkCujf1fbJL",
    "7DMIx4gJfbJL",
    "rir4rzb5fbJL",
    "OdixKoi4fbJL",
    "c9KUpRHRfbJM",
    "lKd1OL1PfbJM",
    "jsdhYkPJfbJM",
    "CYhhuX9LfbJM",
    "gda9e9S0fbJM",
    "8uFIQrChfbJM",
    "VBI937e3fbJN",
    "LfGq0X-ifbJN",
    "X7wryvg5fbJN",
    "dYwUnl5NfbJN",
    "3E0zsbwBfbJN",
    "iiyN7nX3fbJN",
    "mWCHOFVPfbJN",
    "y_jm47FbfbJN",
    "X19NxpYtfbJN",
    "MCJSKfa3fbJO",
    "tUC3h7zefbJO",
    "k5ZM4J5OfbJO",
    "BekHZXcrfbJO",
    "LIzcgiJOfbJO",
    "0mEWC88UfbJO",
    "azP1LUDZfbJO",
    "adlUcQ-MfbJO",
    "GBJFWM6PfbJP",
    "Xmdf-VwXfbJP",
    "Z5tNETlzfbJP",
    "HorM_WOZfbJP",
    "b03wqdRGfbJP",
    "p4hgN4llfbJP",
    "onp8ioVJfbJP",
    "LakgtlqQfbJP",
    "JtVvO9YIfbJQ",
    "VENwXkd5fbJQ",
    "t1X5sDqPfbJQ",
    "_7hk3mLYfbJQ",
    "Ha_Q_zt7fbJQ",
    "mIg1xV9LfbJQ",
    "O7osbuROfbJQ",
    "uvWsehgkfbJQ",
    "5bFsaZgIfbJR",
    "W_5jRfPNfbJR",
    "RvYBhfbafbJR",
    "iBi8isESfbJR",
    "rfrgixcNfbJR",
    "WeiLsdYAfbJR",
    "HpCwImiPfbJR",
    "qWh0o0oGfbJR",
    "s32aa8GgfbJT",
    "DYwm3na0fbJU",
    "BxeSwwdwfbJU",
    "WTsxPJwkfbJU",
    "Dg5lo5yffbJU",
    "kUqHUMmCfbJU",
    "VUUujWPPfbJU",
    "WO7KzM3UfbJU",
    "rtXAhsKTfbJZ",
    "dpcShtoLfbJd",
    "OM1Uw83RfbJd",
    "-AWEA44IfbJh",
    "3bqLHlcFfbJh",
    "pvuiH3-hfbJi",
    "u0i8QRfzfbJj",
    "DJbWas7CfbJj",
    "TjbtIFrgfbJj",
    "taNYcUNJfbJj",
    "ydjMjoXbfbJk",
    "DuAoHYfgfbJk",
    "VUzKm2GhfbJk",
    "AXqIgW8sfbJk",
    "457hF1eYfbJl",
    "CMtqaAMSfbJl",
    "x94UOUgNfbJl",
    "xdK9uMNXfbJp",
    "Lx1NdfVFfbJp",
    "3fietwTMfbJp",
    "NHq7oC-PfbJq",
    "vfIQnBUafbJq",
    "9xTQ8OLafbJq",
    "STySu1qWfbJq",
    "RTOnrzeifbJr",
    "dmfk4noKfbJr",
    "SY7suWPkfbJr",
    "yoyIi2GBfbJr",
    "KoP17eEGfbJs",
    "h_A7GLhAfbJs",
    "SvIpxM4OfbJs",
    "ZdPG0xpufbJt",
    "47gDHYAxfbJt",
    "C-TkoUTifbJt",
    "7OiVY6IkfbJu",
    "Y0HsKq5xfbJu",
    "05xLZW-ofbJu",
    "9egoAa8EfbJv",
    "jsPDHf0TfbJv",
    "-Q1vO_KxfbJv",
    "IfGkhB1IfbJv",
    "8ZvfvEvJfbJw",
    "gc_nKNM_fbJw",
    "0tcGqrCFfbJw",
    "zmM53GTwfbJw",
    "INOn-N9UfbJx",
    "vwipIB41fbJx",
    "rBlGnOJqfbJy",
    "thmk4YHEfbJy",
    "0_BCnajDfbJe"
   ],
   "name": "603_pump_failure.ipynb",
   "provenance": [],
   "toc_visible": true
  },
  "interpreter": {
   "hash": "31f2aee4e71d21fbe5cf8b01ff0e069b9275f58929596ceb00d14d90e3e16cd6"
  },
  "kernelspec": {
   "display_name": "Python 3 (ipykernel)",
   "language": "python",
   "name": "python3"
  },
  "language_info": {
   "codemirror_mode": {
    "name": "ipython",
    "version": 3
   },
   "file_extension": ".py",
   "mimetype": "text/x-python",
   "name": "python",
   "nbconvert_exporter": "python",
   "pygments_lexer": "ipython3",
   "version": "3.11.3"
  }
 },
 "nbformat": 4,
 "nbformat_minor": 2
}
